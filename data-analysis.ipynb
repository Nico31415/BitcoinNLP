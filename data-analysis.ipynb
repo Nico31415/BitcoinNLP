{
 "cells": [
  {
   "cell_type": "code",
   "execution_count": 2,
   "metadata": {},
   "outputs": [],
   "source": [
    "import pandas as pd\n",
    "import numpy as np\n",
    "import matplotlib.pyplot as plt\n",
    "import seaborn as sns\n",
    "import yfinance as yf\n",
    "from yahoofinancials import YahooFinancials\n",
    "import GetOldTweets3 as got\n",
    "from datetime import timedelta, date"
   ]
  },
  {
   "cell_type": "code",
   "execution_count": 3,
   "metadata": {},
   "outputs": [],
   "source": [
    "#data on BTC Prices\n",
    "yahoo_financials = YahooFinancials('BTC-USD')\n",
    "\n",
    "btc_prices = yahoo_financials.get_historical_price_data(start_date = '2016-01-03',\n",
    "                                                        end_date = '2020-08-30',\n",
    "                                                        time_interval = 'weekly')"
   ]
  },
  {
   "cell_type": "code",
   "execution_count": 4,
   "metadata": {},
   "outputs": [],
   "source": [
    "btc_df = pd.DataFrame(btc_prices['BTC-USD']['prices'])\n",
    "btc_df = btc_df.drop('date',axis=1)"
   ]
  },
  {
   "cell_type": "code",
   "execution_count": 5,
   "metadata": {},
   "outputs": [
    {
     "data": {
      "text/html": [
       "<div>\n",
       "<style scoped>\n",
       "    .dataframe tbody tr th:only-of-type {\n",
       "        vertical-align: middle;\n",
       "    }\n",
       "\n",
       "    .dataframe tbody tr th {\n",
       "        vertical-align: top;\n",
       "    }\n",
       "\n",
       "    .dataframe thead th {\n",
       "        text-align: right;\n",
       "    }\n",
       "</style>\n",
       "<table border=\"1\" class=\"dataframe\">\n",
       "  <thead>\n",
       "    <tr style=\"text-align: right;\">\n",
       "      <th></th>\n",
       "      <th>high</th>\n",
       "      <th>low</th>\n",
       "      <th>open</th>\n",
       "      <th>close</th>\n",
       "      <th>volume</th>\n",
       "      <th>adjclose</th>\n",
       "      <th>formatted_date</th>\n",
       "    </tr>\n",
       "  </thead>\n",
       "  <tbody>\n",
       "    <tr>\n",
       "      <th>0</th>\n",
       "      <td>458.765991</td>\n",
       "      <td>424.705994</td>\n",
       "      <td>433.578003</td>\n",
       "      <td>458.048004</td>\n",
       "      <td>234238600</td>\n",
       "      <td>458.048004</td>\n",
       "      <td>2016-01-01</td>\n",
       "    </tr>\n",
       "    <tr>\n",
       "      <th>1</th>\n",
       "      <td>462.933990</td>\n",
       "      <td>424.442993</td>\n",
       "      <td>457.537994</td>\n",
       "      <td>430.306000</td>\n",
       "      <td>499157400</td>\n",
       "      <td>430.306000</td>\n",
       "      <td>2016-01-08</td>\n",
       "    </tr>\n",
       "    <tr>\n",
       "      <th>2</th>\n",
       "      <td>430.255005</td>\n",
       "      <td>354.914001</td>\n",
       "      <td>430.255005</td>\n",
       "      <td>410.261993</td>\n",
       "      <td>610304308</td>\n",
       "      <td>410.261993</td>\n",
       "      <td>2016-01-15</td>\n",
       "    </tr>\n",
       "    <tr>\n",
       "      <th>3</th>\n",
       "      <td>410.410004</td>\n",
       "      <td>375.282013</td>\n",
       "      <td>409.751007</td>\n",
       "      <td>380.289001</td>\n",
       "      <td>426500500</td>\n",
       "      <td>380.289001</td>\n",
       "      <td>2016-01-22</td>\n",
       "    </tr>\n",
       "    <tr>\n",
       "      <th>4</th>\n",
       "      <td>391.608002</td>\n",
       "      <td>365.451996</td>\n",
       "      <td>380.108002</td>\n",
       "      <td>389.593994</td>\n",
       "      <td>361558300</td>\n",
       "      <td>389.593994</td>\n",
       "      <td>2016-01-29</td>\n",
       "    </tr>\n",
       "  </tbody>\n",
       "</table>\n",
       "</div>"
      ],
      "text/plain": [
       "         high         low        open       close     volume    adjclose  \\\n",
       "0  458.765991  424.705994  433.578003  458.048004  234238600  458.048004   \n",
       "1  462.933990  424.442993  457.537994  430.306000  499157400  430.306000   \n",
       "2  430.255005  354.914001  430.255005  410.261993  610304308  410.261993   \n",
       "3  410.410004  375.282013  409.751007  380.289001  426500500  380.289001   \n",
       "4  391.608002  365.451996  380.108002  389.593994  361558300  389.593994   \n",
       "\n",
       "  formatted_date  \n",
       "0     2016-01-01  \n",
       "1     2016-01-08  \n",
       "2     2016-01-15  \n",
       "3     2016-01-22  \n",
       "4     2016-01-29  "
      ]
     },
     "execution_count": 5,
     "metadata": {},
     "output_type": "execute_result"
    }
   ],
   "source": [
    "btc_df.head()"
   ]
  },
  {
   "cell_type": "code",
   "execution_count": 6,
   "metadata": {},
   "outputs": [],
   "source": [
    "#add Google Search data\n",
    "googleSearch = pd.read_csv('googleSearch.csv')"
   ]
  },
  {
   "cell_type": "code",
   "execution_count": 7,
   "metadata": {},
   "outputs": [
    {
     "name": "stdout",
     "output_type": "stream",
     "text": [
      "<class 'pandas.core.frame.DataFrame'>\n",
      "RangeIndex: 244 entries, 0 to 243\n",
      "Data columns (total 2 columns):\n",
      " #   Column    Non-Null Count  Dtype \n",
      "---  ------    --------------  ----- \n",
      " 0   Date      244 non-null    object\n",
      " 1   Searches  244 non-null    int64 \n",
      "dtypes: int64(1), object(1)\n",
      "memory usage: 3.9+ KB\n"
     ]
    }
   ],
   "source": [
    "googleSearch.info()"
   ]
  },
  {
   "cell_type": "code",
   "execution_count": 8,
   "metadata": {},
   "outputs": [],
   "source": [
    "data = pd.DataFrame()\n",
    "data['Date']= googleSearch['Date']\n",
    "data['googleSearches']=googleSearch['Searches']\n",
    "data['BTCPrice'] = btc_df['adjclose']"
   ]
  },
  {
   "cell_type": "code",
   "execution_count": 9,
   "metadata": {},
   "outputs": [
    {
     "data": {
      "text/html": [
       "<div>\n",
       "<style scoped>\n",
       "    .dataframe tbody tr th:only-of-type {\n",
       "        vertical-align: middle;\n",
       "    }\n",
       "\n",
       "    .dataframe tbody tr th {\n",
       "        vertical-align: top;\n",
       "    }\n",
       "\n",
       "    .dataframe thead th {\n",
       "        text-align: right;\n",
       "    }\n",
       "</style>\n",
       "<table border=\"1\" class=\"dataframe\">\n",
       "  <thead>\n",
       "    <tr style=\"text-align: right;\">\n",
       "      <th></th>\n",
       "      <th>Date</th>\n",
       "      <th>googleSearches</th>\n",
       "      <th>BTCPrice</th>\n",
       "    </tr>\n",
       "  </thead>\n",
       "  <tbody>\n",
       "    <tr>\n",
       "      <th>0</th>\n",
       "      <td>2016-01-03</td>\n",
       "      <td>3</td>\n",
       "      <td>458.048004</td>\n",
       "    </tr>\n",
       "    <tr>\n",
       "      <th>1</th>\n",
       "      <td>2016-01-10</td>\n",
       "      <td>3</td>\n",
       "      <td>430.306000</td>\n",
       "    </tr>\n",
       "    <tr>\n",
       "      <th>2</th>\n",
       "      <td>2016-01-17</td>\n",
       "      <td>3</td>\n",
       "      <td>410.261993</td>\n",
       "    </tr>\n",
       "    <tr>\n",
       "      <th>3</th>\n",
       "      <td>2016-01-24</td>\n",
       "      <td>3</td>\n",
       "      <td>380.289001</td>\n",
       "    </tr>\n",
       "    <tr>\n",
       "      <th>4</th>\n",
       "      <td>2016-01-31</td>\n",
       "      <td>3</td>\n",
       "      <td>389.593994</td>\n",
       "    </tr>\n",
       "  </tbody>\n",
       "</table>\n",
       "</div>"
      ],
      "text/plain": [
       "         Date  googleSearches    BTCPrice\n",
       "0  2016-01-03               3  458.048004\n",
       "1  2016-01-10               3  430.306000\n",
       "2  2016-01-17               3  410.261993\n",
       "3  2016-01-24               3  380.289001\n",
       "4  2016-01-31               3  389.593994"
      ]
     },
     "execution_count": 9,
     "metadata": {},
     "output_type": "execute_result"
    }
   ],
   "source": [
    "data.head()"
   ]
  },
  {
   "cell_type": "code",
   "execution_count": 10,
   "metadata": {},
   "outputs": [
    {
     "data": {
      "text/plain": [
       "Date              2017-12-03\n",
       "googleSearches            84\n",
       "BTCPrice             17899.7\n",
       "Name: 100, dtype: object"
      ]
     },
     "execution_count": 10,
     "metadata": {},
     "output_type": "execute_result"
    }
   ],
   "source": [
    "data.loc[data['BTCPrice'].idxmax]"
   ]
  },
  {
   "cell_type": "code",
   "execution_count": 11,
   "metadata": {},
   "outputs": [],
   "source": [
    "data['BTCPrice']=data['BTCPrice']/17899.7"
   ]
  },
  {
   "cell_type": "code",
   "execution_count": 12,
   "metadata": {},
   "outputs": [
    {
     "data": {
      "text/plain": [
       "Date              2019-09-01\n",
       "googleSearches           100\n",
       "BTCPrice            0.590822\n",
       "Name: 191, dtype: object"
      ]
     },
     "execution_count": 12,
     "metadata": {},
     "output_type": "execute_result"
    }
   ],
   "source": [
    "data.loc[data['googleSearches'].idxmax]"
   ]
  },
  {
   "cell_type": "code",
   "execution_count": 13,
   "metadata": {},
   "outputs": [],
   "source": [
    "data['googleSearches'] = data['googleSearches']/100"
   ]
  },
  {
   "cell_type": "code",
   "execution_count": 14,
   "metadata": {},
   "outputs": [
    {
     "data": {
      "text/html": [
       "<div>\n",
       "<style scoped>\n",
       "    .dataframe tbody tr th:only-of-type {\n",
       "        vertical-align: middle;\n",
       "    }\n",
       "\n",
       "    .dataframe tbody tr th {\n",
       "        vertical-align: top;\n",
       "    }\n",
       "\n",
       "    .dataframe thead th {\n",
       "        text-align: right;\n",
       "    }\n",
       "</style>\n",
       "<table border=\"1\" class=\"dataframe\">\n",
       "  <thead>\n",
       "    <tr style=\"text-align: right;\">\n",
       "      <th></th>\n",
       "      <th>googleSearches</th>\n",
       "      <th>BTCPrice</th>\n",
       "    </tr>\n",
       "    <tr>\n",
       "      <th>Date</th>\n",
       "      <th></th>\n",
       "      <th></th>\n",
       "    </tr>\n",
       "  </thead>\n",
       "  <tbody>\n",
       "    <tr>\n",
       "      <th>2016-01-03</th>\n",
       "      <td>0.03</td>\n",
       "      <td>0.025590</td>\n",
       "    </tr>\n",
       "    <tr>\n",
       "      <th>2016-01-10</th>\n",
       "      <td>0.03</td>\n",
       "      <td>0.024040</td>\n",
       "    </tr>\n",
       "    <tr>\n",
       "      <th>2016-01-17</th>\n",
       "      <td>0.03</td>\n",
       "      <td>0.022920</td>\n",
       "    </tr>\n",
       "    <tr>\n",
       "      <th>2016-01-24</th>\n",
       "      <td>0.03</td>\n",
       "      <td>0.021246</td>\n",
       "    </tr>\n",
       "    <tr>\n",
       "      <th>2016-01-31</th>\n",
       "      <td>0.03</td>\n",
       "      <td>0.021765</td>\n",
       "    </tr>\n",
       "    <tr>\n",
       "      <th>...</th>\n",
       "      <td>...</td>\n",
       "      <td>...</td>\n",
       "    </tr>\n",
       "    <tr>\n",
       "      <th>2020-08-02</th>\n",
       "      <td>0.16</td>\n",
       "      <td>0.658099</td>\n",
       "    </tr>\n",
       "    <tr>\n",
       "      <th>2020-08-09</th>\n",
       "      <td>0.14</td>\n",
       "      <td>0.658343</td>\n",
       "    </tr>\n",
       "    <tr>\n",
       "      <th>2020-08-16</th>\n",
       "      <td>0.13</td>\n",
       "      <td>0.663607</td>\n",
       "    </tr>\n",
       "    <tr>\n",
       "      <th>2020-08-23</th>\n",
       "      <td>0.12</td>\n",
       "      <td>0.632603</td>\n",
       "    </tr>\n",
       "    <tr>\n",
       "      <th>2020-08-30</th>\n",
       "      <td>0.11</td>\n",
       "      <td>0.654285</td>\n",
       "    </tr>\n",
       "  </tbody>\n",
       "</table>\n",
       "<p>244 rows × 2 columns</p>\n",
       "</div>"
      ],
      "text/plain": [
       "            googleSearches  BTCPrice\n",
       "Date                                \n",
       "2016-01-03            0.03  0.025590\n",
       "2016-01-10            0.03  0.024040\n",
       "2016-01-17            0.03  0.022920\n",
       "2016-01-24            0.03  0.021246\n",
       "2016-01-31            0.03  0.021765\n",
       "...                    ...       ...\n",
       "2020-08-02            0.16  0.658099\n",
       "2020-08-09            0.14  0.658343\n",
       "2020-08-16            0.13  0.663607\n",
       "2020-08-23            0.12  0.632603\n",
       "2020-08-30            0.11  0.654285\n",
       "\n",
       "[244 rows x 2 columns]"
      ]
     },
     "execution_count": 14,
     "metadata": {},
     "output_type": "execute_result"
    }
   ],
   "source": [
    "data.set_index('Date')"
   ]
  },
  {
   "cell_type": "code",
   "execution_count": 15,
   "metadata": {},
   "outputs": [
    {
     "data": {
      "text/plain": [
       "<matplotlib.axes._subplots.AxesSubplot at 0x7fa6b9c9db00>"
      ]
     },
     "execution_count": 15,
     "metadata": {},
     "output_type": "execute_result"
    },
    {
     "data": {
      "image/png": "[encoded data removed]",
      "text/plain": [
       "<Figure size 432x288 with 1 Axes>"
      ]
     },
     "metadata": {
      "needs_background": "light"
     },
     "output_type": "display_data"
    }
   ],
   "source": [
    "data.plot()"
   ]
  },
  {
   "cell_type": "code",
   "execution_count": 16,
   "metadata": {},
   "outputs": [
    {
     "data": {
      "text/plain": [
       "0.6495099825219947"
      ]
     },
     "execution_count": 16,
     "metadata": {},
     "output_type": "execute_result"
    }
   ],
   "source": [
    "data['BTCPrice'].corr(data['googleSearches'])"
   ]
  },
  {
   "cell_type": "code",
   "execution_count": 17,
   "metadata": {},
   "outputs": [],
   "source": [
    "#in trading, a coefficient of more than -0.8 or \n",
    "#less than 0.8 is not considered significant.\n",
    "#https://www.daytrading.com/correlation"
   ]
  },
  {
   "cell_type": "code",
   "execution_count": 76,
   "metadata": {},
   "outputs": [
    {
     "name": "stderr",
     "output_type": "stream",
     "text": [
      "/Users/nicolasanguita/miniconda3/lib/python3.7/site-packages/pandas/core/series.py:679: RuntimeWarning: invalid value encountered in log\n",
      "  result = getattr(ufunc, method)(*inputs, **kwargs)\n",
      "/Users/nicolasanguita/miniconda3/lib/python3.7/site-packages/pandas/core/series.py:679: RuntimeWarning: divide by zero encountered in log\n",
      "  result = getattr(ufunc, method)(*inputs, **kwargs)\n"
     ]
    }
   ],
   "source": [
    "data['BTCReturns']=data['BTCPrice'].pct_change()\n",
    "data['googleReturns']=data['googleSearches'].pct_change()\n",
    "data['BTCReturnsLog']=np.log(data['BTCReturns'])\n",
    "data['googleReturnsLog']=np.log(abs(data['googleReturns']))"
   ]
  },
  {
   "cell_type": "code",
   "execution_count": 19,
   "metadata": {},
   "outputs": [
    {
     "data": {
      "image/png": "[encoded data removed]",
      "text/plain": [
       "<Figure size 432x288 with 1 Axes>"
      ]
     },
     "metadata": {
      "needs_background": "light"
     },
     "output_type": "display_data"
    }
   ],
   "source": [
    "fig = plt.figure()\n",
    "ax1 = fig.add_axes([0.1,0.1,0.8,0.8])\n",
    "ax1.plot(data['BTCReturns'])\n",
    "ax1.plot(data['googleReturns'])\n",
    "ax1.set_xlabel(\"Date\")\n",
    "ax1.set_ylabel(\"Percent\")\n",
    "ax1.set_title(\"BTC weekly returns data\")\n",
    "plt.show()"
   ]
  },
  {
   "cell_type": "code",
   "execution_count": 20,
   "metadata": {},
   "outputs": [
    {
     "ename": "ValueError",
     "evalue": "autodetected range of [-inf, 0.7731898882334819] is not finite",
     "output_type": "error",
     "traceback": [
      "\u001b[0;31m---------------------------------------------------------------------------\u001b[0m",
      "\u001b[0;31mValueError\u001b[0m                                Traceback (most recent call last)",
      "\u001b[0;32m<ipython-input-20-2837660bf5a9>\u001b[0m in \u001b[0;36m<module>\u001b[0;34m\u001b[0m\n\u001b[1;32m      8\u001b[0m \u001b[0mfig2\u001b[0m \u001b[0;34m=\u001b[0m \u001b[0mplt\u001b[0m\u001b[0;34m.\u001b[0m\u001b[0mfigure\u001b[0m\u001b[0;34m(\u001b[0m\u001b[0;34m)\u001b[0m\u001b[0;34m\u001b[0m\u001b[0;34m\u001b[0m\u001b[0m\n\u001b[1;32m      9\u001b[0m \u001b[0max1\u001b[0m \u001b[0;34m=\u001b[0m \u001b[0mfig2\u001b[0m\u001b[0;34m.\u001b[0m\u001b[0madd_axes\u001b[0m\u001b[0;34m(\u001b[0m\u001b[0;34m[\u001b[0m\u001b[0;36m0.1\u001b[0m\u001b[0;34m,\u001b[0m\u001b[0;36m0.1\u001b[0m\u001b[0;34m,\u001b[0m\u001b[0;36m0.8\u001b[0m\u001b[0;34m,\u001b[0m\u001b[0;36m0.8\u001b[0m\u001b[0;34m]\u001b[0m\u001b[0;34m)\u001b[0m\u001b[0;34m\u001b[0m\u001b[0;34m\u001b[0m\u001b[0m\n\u001b[0;32m---> 10\u001b[0;31m \u001b[0mdata\u001b[0m\u001b[0;34m[\u001b[0m\u001b[0;34m'googleReturnsLog'\u001b[0m\u001b[0;34m]\u001b[0m\u001b[0;34m.\u001b[0m\u001b[0mplot\u001b[0m\u001b[0;34m.\u001b[0m\u001b[0mhist\u001b[0m\u001b[0;34m(\u001b[0m\u001b[0mbins\u001b[0m \u001b[0;34m=\u001b[0m \u001b[0;36m100\u001b[0m\u001b[0;34m)\u001b[0m\u001b[0;34m\u001b[0m\u001b[0;34m\u001b[0m\u001b[0m\n\u001b[0m\u001b[1;32m     11\u001b[0m \u001b[0max1\u001b[0m\u001b[0;34m.\u001b[0m\u001b[0mset_xlabel\u001b[0m\u001b[0;34m(\u001b[0m\u001b[0;34m\"Daily returns %\"\u001b[0m\u001b[0;34m)\u001b[0m\u001b[0;34m\u001b[0m\u001b[0;34m\u001b[0m\u001b[0m\n\u001b[1;32m     12\u001b[0m \u001b[0max1\u001b[0m\u001b[0;34m.\u001b[0m\u001b[0mset_ylabel\u001b[0m\u001b[0;34m(\u001b[0m\u001b[0;34m\"Percent\"\u001b[0m\u001b[0;34m)\u001b[0m\u001b[0;34m\u001b[0m\u001b[0;34m\u001b[0m\u001b[0m\n",
      "\u001b[0;32m~/miniconda3/lib/python3.7/site-packages/pandas/plotting/_core.py\u001b[0m in \u001b[0;36mhist\u001b[0;34m(self, by, bins, **kwargs)\u001b[0m\n\u001b[1;32m   1178\u001b[0m             \u001b[0;34m>>\u001b[0m\u001b[0;34m>\u001b[0m \u001b[0max\u001b[0m \u001b[0;34m=\u001b[0m \u001b[0mdf\u001b[0m\u001b[0;34m.\u001b[0m\u001b[0mplot\u001b[0m\u001b[0;34m.\u001b[0m\u001b[0mhist\u001b[0m\u001b[0;34m(\u001b[0m\u001b[0mbins\u001b[0m\u001b[0;34m=\u001b[0m\u001b[0;36m12\u001b[0m\u001b[0;34m,\u001b[0m \u001b[0malpha\u001b[0m\u001b[0;34m=\u001b[0m\u001b[0;36m0.5\u001b[0m\u001b[0;34m)\u001b[0m\u001b[0;34m\u001b[0m\u001b[0;34m\u001b[0m\u001b[0m\n\u001b[1;32m   1179\u001b[0m         \"\"\"\n\u001b[0;32m-> 1180\u001b[0;31m         \u001b[0;32mreturn\u001b[0m \u001b[0mself\u001b[0m\u001b[0;34m(\u001b[0m\u001b[0mkind\u001b[0m\u001b[0;34m=\u001b[0m\u001b[0;34m\"hist\"\u001b[0m\u001b[0;34m,\u001b[0m \u001b[0mby\u001b[0m\u001b[0;34m=\u001b[0m\u001b[0mby\u001b[0m\u001b[0;34m,\u001b[0m \u001b[0mbins\u001b[0m\u001b[0;34m=\u001b[0m\u001b[0mbins\u001b[0m\u001b[0;34m,\u001b[0m \u001b[0;34m**\u001b[0m\u001b[0mkwargs\u001b[0m\u001b[0;34m)\u001b[0m\u001b[0;34m\u001b[0m\u001b[0;34m\u001b[0m\u001b[0m\n\u001b[0m\u001b[1;32m   1181\u001b[0m \u001b[0;34m\u001b[0m\u001b[0m\n\u001b[1;32m   1182\u001b[0m     \u001b[0;32mdef\u001b[0m \u001b[0mkde\u001b[0m\u001b[0;34m(\u001b[0m\u001b[0mself\u001b[0m\u001b[0;34m,\u001b[0m \u001b[0mbw_method\u001b[0m\u001b[0;34m=\u001b[0m\u001b[0;32mNone\u001b[0m\u001b[0;34m,\u001b[0m \u001b[0mind\u001b[0m\u001b[0;34m=\u001b[0m\u001b[0;32mNone\u001b[0m\u001b[0;34m,\u001b[0m \u001b[0;34m**\u001b[0m\u001b[0mkwargs\u001b[0m\u001b[0;34m)\u001b[0m\u001b[0;34m:\u001b[0m\u001b[0;34m\u001b[0m\u001b[0;34m\u001b[0m\u001b[0m\n",
      "\u001b[0;32m~/miniconda3/lib/python3.7/site-packages/pandas/plotting/_core.py\u001b[0m in \u001b[0;36m__call__\u001b[0;34m(self, *args, **kwargs)\u001b[0m\n\u001b[1;32m    845\u001b[0m                     \u001b[0mdata\u001b[0m\u001b[0;34m.\u001b[0m\u001b[0mcolumns\u001b[0m \u001b[0;34m=\u001b[0m \u001b[0mlabel_name\u001b[0m\u001b[0;34m\u001b[0m\u001b[0;34m\u001b[0m\u001b[0m\n\u001b[1;32m    846\u001b[0m \u001b[0;34m\u001b[0m\u001b[0m\n\u001b[0;32m--> 847\u001b[0;31m         \u001b[0;32mreturn\u001b[0m \u001b[0mplot_backend\u001b[0m\u001b[0;34m.\u001b[0m\u001b[0mplot\u001b[0m\u001b[0;34m(\u001b[0m\u001b[0mdata\u001b[0m\u001b[0;34m,\u001b[0m \u001b[0mkind\u001b[0m\u001b[0;34m=\u001b[0m\u001b[0mkind\u001b[0m\u001b[0;34m,\u001b[0m \u001b[0;34m**\u001b[0m\u001b[0mkwargs\u001b[0m\u001b[0;34m)\u001b[0m\u001b[0;34m\u001b[0m\u001b[0;34m\u001b[0m\u001b[0m\n\u001b[0m\u001b[1;32m    848\u001b[0m \u001b[0;34m\u001b[0m\u001b[0m\n\u001b[1;32m    849\u001b[0m     \u001b[0m__call__\u001b[0m\u001b[0;34m.\u001b[0m\u001b[0m__doc__\u001b[0m \u001b[0;34m=\u001b[0m \u001b[0m__doc__\u001b[0m\u001b[0;34m\u001b[0m\u001b[0;34m\u001b[0m\u001b[0m\n",
      "\u001b[0;32m~/miniconda3/lib/python3.7/site-packages/pandas/plotting/_matplotlib/__init__.py\u001b[0m in \u001b[0;36mplot\u001b[0;34m(data, kind, **kwargs)\u001b[0m\n\u001b[1;32m     59\u001b[0m             \u001b[0mkwargs\u001b[0m\u001b[0;34m[\u001b[0m\u001b[0;34m\"ax\"\u001b[0m\u001b[0;34m]\u001b[0m \u001b[0;34m=\u001b[0m \u001b[0mgetattr\u001b[0m\u001b[0;34m(\u001b[0m\u001b[0max\u001b[0m\u001b[0;34m,\u001b[0m \u001b[0;34m\"left_ax\"\u001b[0m\u001b[0;34m,\u001b[0m \u001b[0max\u001b[0m\u001b[0;34m)\u001b[0m\u001b[0;34m\u001b[0m\u001b[0;34m\u001b[0m\u001b[0m\n\u001b[1;32m     60\u001b[0m     \u001b[0mplot_obj\u001b[0m \u001b[0;34m=\u001b[0m \u001b[0mPLOT_CLASSES\u001b[0m\u001b[0;34m[\u001b[0m\u001b[0mkind\u001b[0m\u001b[0;34m]\u001b[0m\u001b[0;34m(\u001b[0m\u001b[0mdata\u001b[0m\u001b[0;34m,\u001b[0m \u001b[0;34m**\u001b[0m\u001b[0mkwargs\u001b[0m\u001b[0;34m)\u001b[0m\u001b[0;34m\u001b[0m\u001b[0;34m\u001b[0m\u001b[0m\n\u001b[0;32m---> 61\u001b[0;31m     \u001b[0mplot_obj\u001b[0m\u001b[0;34m.\u001b[0m\u001b[0mgenerate\u001b[0m\u001b[0;34m(\u001b[0m\u001b[0;34m)\u001b[0m\u001b[0;34m\u001b[0m\u001b[0;34m\u001b[0m\u001b[0m\n\u001b[0m\u001b[1;32m     62\u001b[0m     \u001b[0mplot_obj\u001b[0m\u001b[0;34m.\u001b[0m\u001b[0mdraw\u001b[0m\u001b[0;34m(\u001b[0m\u001b[0;34m)\u001b[0m\u001b[0;34m\u001b[0m\u001b[0;34m\u001b[0m\u001b[0m\n\u001b[1;32m     63\u001b[0m     \u001b[0;32mreturn\u001b[0m \u001b[0mplot_obj\u001b[0m\u001b[0;34m.\u001b[0m\u001b[0mresult\u001b[0m\u001b[0;34m\u001b[0m\u001b[0;34m\u001b[0m\u001b[0m\n",
      "\u001b[0;32m~/miniconda3/lib/python3.7/site-packages/pandas/plotting/_matplotlib/core.py\u001b[0m in \u001b[0;36mgenerate\u001b[0;34m(self)\u001b[0m\n\u001b[1;32m    258\u001b[0m \u001b[0;34m\u001b[0m\u001b[0m\n\u001b[1;32m    259\u001b[0m     \u001b[0;32mdef\u001b[0m \u001b[0mgenerate\u001b[0m\u001b[0;34m(\u001b[0m\u001b[0mself\u001b[0m\u001b[0;34m)\u001b[0m\u001b[0;34m:\u001b[0m\u001b[0;34m\u001b[0m\u001b[0;34m\u001b[0m\u001b[0m\n\u001b[0;32m--> 260\u001b[0;31m         \u001b[0mself\u001b[0m\u001b[0;34m.\u001b[0m\u001b[0m_args_adjust\u001b[0m\u001b[0;34m(\u001b[0m\u001b[0;34m)\u001b[0m\u001b[0;34m\u001b[0m\u001b[0;34m\u001b[0m\u001b[0m\n\u001b[0m\u001b[1;32m    261\u001b[0m         \u001b[0mself\u001b[0m\u001b[0;34m.\u001b[0m\u001b[0m_compute_plot_data\u001b[0m\u001b[0;34m(\u001b[0m\u001b[0;34m)\u001b[0m\u001b[0;34m\u001b[0m\u001b[0;34m\u001b[0m\u001b[0m\n\u001b[1;32m    262\u001b[0m         \u001b[0mself\u001b[0m\u001b[0;34m.\u001b[0m\u001b[0m_setup_subplots\u001b[0m\u001b[0;34m(\u001b[0m\u001b[0;34m)\u001b[0m\u001b[0;34m\u001b[0m\u001b[0;34m\u001b[0m\u001b[0m\n",
      "\u001b[0;32m~/miniconda3/lib/python3.7/site-packages/pandas/plotting/_matplotlib/hist.py\u001b[0m in \u001b[0;36m_args_adjust\u001b[0;34m(self)\u001b[0m\n\u001b[1;32m     32\u001b[0m                 \u001b[0mbins\u001b[0m\u001b[0;34m=\u001b[0m\u001b[0mself\u001b[0m\u001b[0;34m.\u001b[0m\u001b[0mbins\u001b[0m\u001b[0;34m,\u001b[0m\u001b[0;34m\u001b[0m\u001b[0;34m\u001b[0m\u001b[0m\n\u001b[1;32m     33\u001b[0m                 \u001b[0mrange\u001b[0m\u001b[0;34m=\u001b[0m\u001b[0mself\u001b[0m\u001b[0;34m.\u001b[0m\u001b[0mkwds\u001b[0m\u001b[0;34m.\u001b[0m\u001b[0mget\u001b[0m\u001b[0;34m(\u001b[0m\u001b[0;34m\"range\"\u001b[0m\u001b[0;34m,\u001b[0m \u001b[0;32mNone\u001b[0m\u001b[0;34m)\u001b[0m\u001b[0;34m,\u001b[0m\u001b[0;34m\u001b[0m\u001b[0;34m\u001b[0m\u001b[0m\n\u001b[0;32m---> 34\u001b[0;31m                 \u001b[0mweights\u001b[0m\u001b[0;34m=\u001b[0m\u001b[0mself\u001b[0m\u001b[0;34m.\u001b[0m\u001b[0mkwds\u001b[0m\u001b[0;34m.\u001b[0m\u001b[0mget\u001b[0m\u001b[0;34m(\u001b[0m\u001b[0;34m\"weights\"\u001b[0m\u001b[0;34m,\u001b[0m \u001b[0;32mNone\u001b[0m\u001b[0;34m)\u001b[0m\u001b[0;34m,\u001b[0m\u001b[0;34m\u001b[0m\u001b[0;34m\u001b[0m\u001b[0m\n\u001b[0m\u001b[1;32m     35\u001b[0m             )\n\u001b[1;32m     36\u001b[0m \u001b[0;34m\u001b[0m\u001b[0m\n",
      "\u001b[0;32m<__array_function__ internals>\u001b[0m in \u001b[0;36mhistogram\u001b[0;34m(*args, **kwargs)\u001b[0m\n",
      "\u001b[0;32m~/miniconda3/lib/python3.7/site-packages/numpy/lib/histograms.py\u001b[0m in \u001b[0;36mhistogram\u001b[0;34m(a, bins, range, normed, weights, density)\u001b[0m\n\u001b[1;32m    793\u001b[0m     \u001b[0ma\u001b[0m\u001b[0;34m,\u001b[0m \u001b[0mweights\u001b[0m \u001b[0;34m=\u001b[0m \u001b[0m_ravel_and_check_weights\u001b[0m\u001b[0;34m(\u001b[0m\u001b[0ma\u001b[0m\u001b[0;34m,\u001b[0m \u001b[0mweights\u001b[0m\u001b[0;34m)\u001b[0m\u001b[0;34m\u001b[0m\u001b[0;34m\u001b[0m\u001b[0m\n\u001b[1;32m    794\u001b[0m \u001b[0;34m\u001b[0m\u001b[0m\n\u001b[0;32m--> 795\u001b[0;31m     \u001b[0mbin_edges\u001b[0m\u001b[0;34m,\u001b[0m \u001b[0muniform_bins\u001b[0m \u001b[0;34m=\u001b[0m \u001b[0m_get_bin_edges\u001b[0m\u001b[0;34m(\u001b[0m\u001b[0ma\u001b[0m\u001b[0;34m,\u001b[0m \u001b[0mbins\u001b[0m\u001b[0;34m,\u001b[0m \u001b[0mrange\u001b[0m\u001b[0;34m,\u001b[0m \u001b[0mweights\u001b[0m\u001b[0;34m)\u001b[0m\u001b[0;34m\u001b[0m\u001b[0;34m\u001b[0m\u001b[0m\n\u001b[0m\u001b[1;32m    796\u001b[0m \u001b[0;34m\u001b[0m\u001b[0m\n\u001b[1;32m    797\u001b[0m     \u001b[0;31m# Histogram is an integer or a float array depending on the weights.\u001b[0m\u001b[0;34m\u001b[0m\u001b[0;34m\u001b[0m\u001b[0;34m\u001b[0m\u001b[0m\n",
      "\u001b[0;32m~/miniconda3/lib/python3.7/site-packages/numpy/lib/histograms.py\u001b[0m in \u001b[0;36m_get_bin_edges\u001b[0;34m(a, bins, range, weights)\u001b[0m\n\u001b[1;32m    427\u001b[0m             \u001b[0;32mraise\u001b[0m \u001b[0mValueError\u001b[0m\u001b[0;34m(\u001b[0m\u001b[0;34m'`bins` must be positive, when an integer'\u001b[0m\u001b[0;34m)\u001b[0m\u001b[0;34m\u001b[0m\u001b[0;34m\u001b[0m\u001b[0m\n\u001b[1;32m    428\u001b[0m \u001b[0;34m\u001b[0m\u001b[0m\n\u001b[0;32m--> 429\u001b[0;31m         \u001b[0mfirst_edge\u001b[0m\u001b[0;34m,\u001b[0m \u001b[0mlast_edge\u001b[0m \u001b[0;34m=\u001b[0m \u001b[0m_get_outer_edges\u001b[0m\u001b[0;34m(\u001b[0m\u001b[0ma\u001b[0m\u001b[0;34m,\u001b[0m \u001b[0mrange\u001b[0m\u001b[0;34m)\u001b[0m\u001b[0;34m\u001b[0m\u001b[0;34m\u001b[0m\u001b[0m\n\u001b[0m\u001b[1;32m    430\u001b[0m \u001b[0;34m\u001b[0m\u001b[0m\n\u001b[1;32m    431\u001b[0m     \u001b[0;32melif\u001b[0m \u001b[0mnp\u001b[0m\u001b[0;34m.\u001b[0m\u001b[0mndim\u001b[0m\u001b[0;34m(\u001b[0m\u001b[0mbins\u001b[0m\u001b[0;34m)\u001b[0m \u001b[0;34m==\u001b[0m \u001b[0;36m1\u001b[0m\u001b[0;34m:\u001b[0m\u001b[0;34m\u001b[0m\u001b[0;34m\u001b[0m\u001b[0m\n",
      "\u001b[0;32m~/miniconda3/lib/python3.7/site-packages/numpy/lib/histograms.py\u001b[0m in \u001b[0;36m_get_outer_edges\u001b[0;34m(a, range)\u001b[0m\n\u001b[1;32m    325\u001b[0m         \u001b[0;32mif\u001b[0m \u001b[0;32mnot\u001b[0m \u001b[0;34m(\u001b[0m\u001b[0mnp\u001b[0m\u001b[0;34m.\u001b[0m\u001b[0misfinite\u001b[0m\u001b[0;34m(\u001b[0m\u001b[0mfirst_edge\u001b[0m\u001b[0;34m)\u001b[0m \u001b[0;32mand\u001b[0m \u001b[0mnp\u001b[0m\u001b[0;34m.\u001b[0m\u001b[0misfinite\u001b[0m\u001b[0;34m(\u001b[0m\u001b[0mlast_edge\u001b[0m\u001b[0;34m)\u001b[0m\u001b[0;34m)\u001b[0m\u001b[0;34m:\u001b[0m\u001b[0;34m\u001b[0m\u001b[0;34m\u001b[0m\u001b[0m\n\u001b[1;32m    326\u001b[0m             raise ValueError(\n\u001b[0;32m--> 327\u001b[0;31m                 \"autodetected range of [{}, {}] is not finite\".format(first_edge, last_edge))\n\u001b[0m\u001b[1;32m    328\u001b[0m \u001b[0;34m\u001b[0m\u001b[0m\n\u001b[1;32m    329\u001b[0m     \u001b[0;31m# expand empty range to avoid divide by zero\u001b[0m\u001b[0;34m\u001b[0m\u001b[0;34m\u001b[0m\u001b[0;34m\u001b[0m\u001b[0m\n",
      "\u001b[0;31mValueError\u001b[0m: autodetected range of [-inf, 0.7731898882334819] is not finite"
     ]
    },
    {
     "data": {
      "image/png": "[encoded data removed]",
      "text/plain": [
       "<Figure size 432x288 with 1 Axes>"
      ]
     },
     "metadata": {
      "needs_background": "light"
     },
     "output_type": "display_data"
    },
    {
     "data": {
      "image/png": "[encoded data removed]",
      "text/plain": [
       "<Figure size 432x288 with 1 Axes>"
      ]
     },
     "metadata": {
      "needs_background": "light"
     },
     "output_type": "display_data"
    }
   ],
   "source": [
    "fig = plt.figure()\n",
    "ax1 = fig.add_axes([0.1,0.1,0.8,0.8])\n",
    "data['BTCReturnsLog'].plot.hist(bins = 100)\n",
    "ax1.set_xlabel(\"Daily returns %\")\n",
    "ax1.set_ylabel(\"Percent\")\n",
    "ax1.set_title(\"Bitcoin Weekly returns data\")\n",
    "\n",
    "fig2 = plt.figure()\n",
    "ax1 = fig2.add_axes([0.1,0.1,0.8,0.8])\n",
    "data['googleReturnsLog'].plot.hist(bins = 100)\n",
    "ax1.set_xlabel(\"Daily returns %\")\n",
    "ax1.set_ylabel(\"Percent\")\n",
    "ax1.set_title(\"%Change in google Searches data\")\n",
    "plt.show()"
   ]
  },
  {
   "cell_type": "code",
   "execution_count": null,
   "metadata": {},
   "outputs": [],
   "source": [
    "data['BTCReturns'].corr(data['googleReturns'])"
   ]
  },
  {
   "cell_type": "code",
   "execution_count": 21,
   "metadata": {
    "scrolled": true
   },
   "outputs": [],
   "source": [
    "tweets_df = pd.read_csv('tweets.csv')"
   ]
  },
  {
   "cell_type": "code",
   "execution_count": 22,
   "metadata": {},
   "outputs": [
    {
     "data": {
      "text/html": [
       "<div>\n",
       "<style scoped>\n",
       "    .dataframe tbody tr th:only-of-type {\n",
       "        vertical-align: middle;\n",
       "    }\n",
       "\n",
       "    .dataframe tbody tr th {\n",
       "        vertical-align: top;\n",
       "    }\n",
       "\n",
       "    .dataframe thead th {\n",
       "        text-align: right;\n",
       "    }\n",
       "</style>\n",
       "<table border=\"1\" class=\"dataframe\">\n",
       "  <thead>\n",
       "    <tr style=\"text-align: right;\">\n",
       "      <th></th>\n",
       "      <th>Unnamed: 0</th>\n",
       "      <th>2016-01-01</th>\n",
       "      <th>2016-01-08</th>\n",
       "      <th>2016-01-15</th>\n",
       "      <th>2016-01-22</th>\n",
       "      <th>2016-01-29</th>\n",
       "      <th>2016-02-05</th>\n",
       "      <th>2016-02-12</th>\n",
       "      <th>2016-02-19</th>\n",
       "      <th>2016-02-26</th>\n",
       "      <th>...</th>\n",
       "      <th>2020-06-26</th>\n",
       "      <th>2020-07-03</th>\n",
       "      <th>2020-07-10</th>\n",
       "      <th>2020-07-17</th>\n",
       "      <th>2020-07-24</th>\n",
       "      <th>2020-07-31</th>\n",
       "      <th>2020-08-07</th>\n",
       "      <th>2020-08-14</th>\n",
       "      <th>2020-08-21</th>\n",
       "      <th>2020-08-28</th>\n",
       "    </tr>\n",
       "  </thead>\n",
       "  <tbody>\n",
       "    <tr>\n",
       "      <th>0</th>\n",
       "      <td>0</td>\n",
       "      <td>The latest Bitcoin Price Index is 459.07 USD h...</td>\n",
       "      <td>I just recieved a Bitcoin transaction. Wait wh...</td>\n",
       "      <td>Know more about Provably Fair gaming here: htt...</td>\n",
       "      <td>The latest Bitcoin Price Index is 379.42 USD h...</td>\n",
       "      <td>The latest Bitcoin Price Index is 388.55 USD h...</td>\n",
       "      <td>The latest Bitcoin Price Index is 377.67 USD h...</td>\n",
       "      <td>Techstars 2016 Boulder class has dating, genea...</td>\n",
       "      <td>@brian_armstrong You guys proved me wrong, sin...</td>\n",
       "      <td>The latest Bitcoin Price Index is 419.45 USD h...</td>\n",
       "      <td>...</td>\n",
       "      <td>About to move onto \"whats next in Bitcoin?\" Co...</td>\n",
       "      <td>Bitcoin traders &amp;gt; Wall Street Hedge Fund tr...</td>\n",
       "      <td>#bitcoin Daily OBV</td>\n",
       "      <td>What if ethereum is the real bitcoin?</td>\n",
       "      <td>#Bitcoin #Crypto #Giveaway WINNER GETS $50 IN...</td>\n",
       "      <td>I was irresponsibly long bitcoin when I didn’t...</td>\n",
       "      <td>David Portnoy Says Bitcoin Is Going To \"12,000...</td>\n",
       "      <td>Drinks in Quarantine #20 Bitcoin Bull Market N...</td>\n",
       "      <td>Robert Breedlove is the philosopher king #Bitc...</td>\n",
       "      <td>#Bitcoin #Giveaway Enter: Like &amp;amp; RT + Tag...</td>\n",
       "    </tr>\n",
       "    <tr>\n",
       "      <th>1</th>\n",
       "      <td>1</td>\n",
       "      <td>Litecoin Video: Max Keiser talks about Bitcoin...</td>\n",
       "      <td>The latest Bitcoin Price Index is 429.66 USD h...</td>\n",
       "      <td>The latest Bitcoin Price Index is 409.94 USD h...</td>\n",
       "      <td>#espn #SportsCenter #nfl Bitcoin poker usa wel...</td>\n",
       "      <td>The first day I learned about #bitcoin was the...</td>\n",
       "      <td>A hard fork of #bitcoin is not contentious by ...</td>\n",
       "      <td>The latest Bitcoin Price Index is 421.58 USD h...</td>\n",
       "      <td>The latest Bitcoin Price Index is 423.51 USD h...</td>\n",
       "      <td>B2B billing is an important (often overlooked)...</td>\n",
       "      <td>...</td>\n",
       "      <td>staring deep into my bowl of lucky charms, thi...</td>\n",
       "      <td>I wonder if everybody in #crypto realises what...</td>\n",
       "      <td>We've been giving away a lot of bitcoin today....</td>\n",
       "      <td>Are #BTC influencers like @peterktodd misleadi...</td>\n",
       "      <td>My family and friends haven't asked me how bit...</td>\n",
       "      <td>Most ETH fans joined in 2017, so they have lit...</td>\n",
       "      <td>Yo bro @stoolpresidente when can I use my Bitc...</td>\n",
       "      <td>It's cool to see crypto people excited about Y...</td>\n",
       "      <td>Knocked down a pair of silos today Like bitcoi...</td>\n",
       "      <td>Bitcoin Cash dropped nearly 14% today, but you...</td>\n",
       "    </tr>\n",
       "    <tr>\n",
       "      <th>2</th>\n",
       "      <td>2</td>\n",
       "      <td>“Bitstamp Opens Gold Buying Service to Europea...</td>\n",
       "      <td>Bitcoin in Crisis. https://medium.com/@octskyw...</td>\n",
       "      <td>I just followed @ericgrill's #Bitcoin &amp;amp; #B...</td>\n",
       "      <td>#iran #iraq #kuwait #UAE #sports Bitcoin poker...</td>\n",
       "      <td>Just ordered Mastering Bitcoin by Andreas M. A...</td>\n",
       "      <td>Amazing how the DOA Merch Mart Bitcoin box has...</td>\n",
       "      <td>Bitcoin Startup Bridge21 Joins 2016 Techstars ...</td>\n",
       "      <td>Why there is no Blockchain without Bitcoin in ...</td>\n",
       "      <td>7pm PST Friday night. Check out this diva's #b...</td>\n",
       "      <td>...</td>\n",
       "      <td>me: what's up husband: i just got done pretend...</td>\n",
       "      <td>Nft $ENJ</td>\n",
       "      <td>Are you sick and tired of waiting for #Bitcoin...</td>\n",
       "      <td>The Ex CEO of Nissan car company paid this for...</td>\n",
       "      <td>When I buy #Bitcoin, I am Cancelling your Abil...</td>\n",
       "      <td>Bitcoin: run the numbers and do the math. Ethe...</td>\n",
       "      <td>Hey, @stoolpresidente... instead of wasting yo...</td>\n",
       "      <td>Wolf of All Streets with Didi Taihuttu is live...</td>\n",
       "      <td>Great tweet @CryptoBrag Good news, ATH today f...</td>\n",
       "      <td>Guys you were all complaining for those weeks ...</td>\n",
       "    </tr>\n",
       "    <tr>\n",
       "      <th>3</th>\n",
       "      <td>3</td>\n",
       "      <td>Rushing home to buy more #Potcoin while the pr...</td>\n",
       "      <td>Bitcoin does not look set to replace tradition...</td>\n",
       "      <td>Jamie Dimon: Bitcoin “Worthless\" - #bitcoin: \"...</td>\n",
       "      <td>How China’s Plans to Launch Its Own Currency M...</td>\n",
       "      <td>NEXTBOND: bitcoin arbitrage asset. Read: http:...</td>\n",
       "      <td>2016-02-10: I qualified as an expert witness o...</td>\n",
       "      <td>Got #bitcoin? Want #ArtByte? Trade BTC/ABY her...</td>\n",
       "      <td>Jaxx: Bitcoin and Ethereum together in your po...</td>\n",
       "      <td>Iceland's Genesis launches first bitcoin minin...</td>\n",
       "      <td>...</td>\n",
       "      <td>.@danheld is good for #Bitcoin.</td>\n",
       "      <td>Nasdaq FOMO Meets Crypto: This Bitcoin ‘IPO’ C...</td>\n",
       "      <td>I’ve been giving out #Bitcoin all day long. An...</td>\n",
       "      <td>Carlos Ghosn sent $500K in Bitcoin to a father...</td>\n",
       "      <td>FearRaiser's main channel got hacked by a BitC...</td>\n",
       "      <td>Kydland and Prescott won a Nobel in Economics ...</td>\n",
       "      <td>No one has ever lost money buying bitcoin. The...</td>\n",
       "      <td>\"The dollar is highly correlated on an inverse...</td>\n",
       "      <td>Bulltrends seems easy but they are so complica...</td>\n",
       "      <td>#Bitcoin #Crypto #Giveaway WINNER GETS $25 IN...</td>\n",
       "    </tr>\n",
       "    <tr>\n",
       "      <th>4</th>\n",
       "      <td>4</td>\n",
       "      <td>This is going to be the best #bitcoin event #A...</td>\n",
       "      <td>Lyra Network brings bitcoin to 35,000 merchant...</td>\n",
       "      <td>British government being urged to adopt Bitcoi...</td>\n",
       "      <td>Real Alt Comedy shows only let you pay the cov...</td>\n",
       "      <td>#BTC #BITCOIN Bitcoin, Blockchain, the SEC and...</td>\n",
       "      <td>Just unsubbed from /r/btc after trying it out ...</td>\n",
       "      <td>We tell Washington: an open global blockchain ...</td>\n",
       "      <td>RT @niccary \"There is only one blockchain that...</td>\n",
       "      <td>Estonian startup @Guardtime to Secure 1 Millio...</td>\n",
       "      <td>...</td>\n",
       "      <td>I’ll be buying more bitcoin this July 4th week...</td>\n",
       "      <td>One thing that Wall Street is not ready for ar...</td>\n",
       "      <td>Hey @jimcramer, I'd love to see a segment on b...</td>\n",
       "      <td>The accumulation happening on $SXP is mind blo...</td>\n",
       "      <td>This is how this person is making money in #cr...</td>\n",
       "      <td>I wonder to what extent Bitcoin will change ac...</td>\n",
       "      <td>Double inside day #Bitcoin ETN $GBTC</td>\n",
       "      <td>The most damage to #bitcoin development was do...</td>\n",
       "      <td>Last thought of the night. Over the next few m...</td>\n",
       "      <td>I love you crazy #Bitcoin bastards! One for th...</td>\n",
       "    </tr>\n",
       "  </tbody>\n",
       "</table>\n",
       "<p>5 rows × 245 columns</p>\n",
       "</div>"
      ],
      "text/plain": [
       "   Unnamed: 0                                         2016-01-01  \\\n",
       "0           0  The latest Bitcoin Price Index is 459.07 USD h...   \n",
       "1           1  Litecoin Video: Max Keiser talks about Bitcoin...   \n",
       "2           2  “Bitstamp Opens Gold Buying Service to Europea...   \n",
       "3           3  Rushing home to buy more #Potcoin while the pr...   \n",
       "4           4  This is going to be the best #bitcoin event #A...   \n",
       "\n",
       "                                          2016-01-08  \\\n",
       "0  I just recieved a Bitcoin transaction. Wait wh...   \n",
       "1  The latest Bitcoin Price Index is 429.66 USD h...   \n",
       "2  Bitcoin in Crisis. https://medium.com/@octskyw...   \n",
       "3  Bitcoin does not look set to replace tradition...   \n",
       "4  Lyra Network brings bitcoin to 35,000 merchant...   \n",
       "\n",
       "                                          2016-01-15  \\\n",
       "0  Know more about Provably Fair gaming here: htt...   \n",
       "1  The latest Bitcoin Price Index is 409.94 USD h...   \n",
       "2  I just followed @ericgrill's #Bitcoin &amp; #B...   \n",
       "3  Jamie Dimon: Bitcoin “Worthless\" - #bitcoin: \"...   \n",
       "4  British government being urged to adopt Bitcoi...   \n",
       "\n",
       "                                          2016-01-22  \\\n",
       "0  The latest Bitcoin Price Index is 379.42 USD h...   \n",
       "1  #espn #SportsCenter #nfl Bitcoin poker usa wel...   \n",
       "2  #iran #iraq #kuwait #UAE #sports Bitcoin poker...   \n",
       "3  How China’s Plans to Launch Its Own Currency M...   \n",
       "4  Real Alt Comedy shows only let you pay the cov...   \n",
       "\n",
       "                                          2016-01-29  \\\n",
       "0  The latest Bitcoin Price Index is 388.55 USD h...   \n",
       "1  The first day I learned about #bitcoin was the...   \n",
       "2  Just ordered Mastering Bitcoin by Andreas M. A...   \n",
       "3  NEXTBOND: bitcoin arbitrage asset. Read: http:...   \n",
       "4  #BTC #BITCOIN Bitcoin, Blockchain, the SEC and...   \n",
       "\n",
       "                                          2016-02-05  \\\n",
       "0  The latest Bitcoin Price Index is 377.67 USD h...   \n",
       "1  A hard fork of #bitcoin is not contentious by ...   \n",
       "2  Amazing how the DOA Merch Mart Bitcoin box has...   \n",
       "3  2016-02-10: I qualified as an expert witness o...   \n",
       "4  Just unsubbed from /r/btc after trying it out ...   \n",
       "\n",
       "                                          2016-02-12  \\\n",
       "0  Techstars 2016 Boulder class has dating, genea...   \n",
       "1  The latest Bitcoin Price Index is 421.58 USD h...   \n",
       "2  Bitcoin Startup Bridge21 Joins 2016 Techstars ...   \n",
       "3  Got #bitcoin? Want #ArtByte? Trade BTC/ABY her...   \n",
       "4  We tell Washington: an open global blockchain ...   \n",
       "\n",
       "                                          2016-02-19  \\\n",
       "0  @brian_armstrong You guys proved me wrong, sin...   \n",
       "1  The latest Bitcoin Price Index is 423.51 USD h...   \n",
       "2  Why there is no Blockchain without Bitcoin in ...   \n",
       "3  Jaxx: Bitcoin and Ethereum together in your po...   \n",
       "4  RT @niccary \"There is only one blockchain that...   \n",
       "\n",
       "                                          2016-02-26  ...  \\\n",
       "0  The latest Bitcoin Price Index is 419.45 USD h...  ...   \n",
       "1  B2B billing is an important (often overlooked)...  ...   \n",
       "2  7pm PST Friday night. Check out this diva's #b...  ...   \n",
       "3  Iceland's Genesis launches first bitcoin minin...  ...   \n",
       "4  Estonian startup @Guardtime to Secure 1 Millio...  ...   \n",
       "\n",
       "                                          2020-06-26  \\\n",
       "0  About to move onto \"whats next in Bitcoin?\" Co...   \n",
       "1  staring deep into my bowl of lucky charms, thi...   \n",
       "2  me: what's up husband: i just got done pretend...   \n",
       "3                    .@danheld is good for #Bitcoin.   \n",
       "4  I’ll be buying more bitcoin this July 4th week...   \n",
       "\n",
       "                                          2020-07-03  \\\n",
       "0  Bitcoin traders &gt; Wall Street Hedge Fund tr...   \n",
       "1  I wonder if everybody in #crypto realises what...   \n",
       "2                                           Nft $ENJ   \n",
       "3  Nasdaq FOMO Meets Crypto: This Bitcoin ‘IPO’ C...   \n",
       "4  One thing that Wall Street is not ready for ar...   \n",
       "\n",
       "                                          2020-07-10  \\\n",
       "0                                #bitcoin Daily OBV    \n",
       "1  We've been giving away a lot of bitcoin today....   \n",
       "2  Are you sick and tired of waiting for #Bitcoin...   \n",
       "3  I’ve been giving out #Bitcoin all day long. An...   \n",
       "4  Hey @jimcramer, I'd love to see a segment on b...   \n",
       "\n",
       "                                          2020-07-17  \\\n",
       "0              What if ethereum is the real bitcoin?   \n",
       "1  Are #BTC influencers like @peterktodd misleadi...   \n",
       "2  The Ex CEO of Nissan car company paid this for...   \n",
       "3  Carlos Ghosn sent $500K in Bitcoin to a father...   \n",
       "4  The accumulation happening on $SXP is mind blo...   \n",
       "\n",
       "                                          2020-07-24  \\\n",
       "0   #Bitcoin #Crypto #Giveaway WINNER GETS $50 IN...   \n",
       "1  My family and friends haven't asked me how bit...   \n",
       "2  When I buy #Bitcoin, I am Cancelling your Abil...   \n",
       "3  FearRaiser's main channel got hacked by a BitC...   \n",
       "4  This is how this person is making money in #cr...   \n",
       "\n",
       "                                          2020-07-31  \\\n",
       "0  I was irresponsibly long bitcoin when I didn’t...   \n",
       "1  Most ETH fans joined in 2017, so they have lit...   \n",
       "2  Bitcoin: run the numbers and do the math. Ethe...   \n",
       "3  Kydland and Prescott won a Nobel in Economics ...   \n",
       "4  I wonder to what extent Bitcoin will change ac...   \n",
       "\n",
       "                                          2020-08-07  \\\n",
       "0  David Portnoy Says Bitcoin Is Going To \"12,000...   \n",
       "1  Yo bro @stoolpresidente when can I use my Bitc...   \n",
       "2  Hey, @stoolpresidente... instead of wasting yo...   \n",
       "3  No one has ever lost money buying bitcoin. The...   \n",
       "4               Double inside day #Bitcoin ETN $GBTC   \n",
       "\n",
       "                                          2020-08-14  \\\n",
       "0  Drinks in Quarantine #20 Bitcoin Bull Market N...   \n",
       "1  It's cool to see crypto people excited about Y...   \n",
       "2  Wolf of All Streets with Didi Taihuttu is live...   \n",
       "3  \"The dollar is highly correlated on an inverse...   \n",
       "4  The most damage to #bitcoin development was do...   \n",
       "\n",
       "                                          2020-08-21  \\\n",
       "0  Robert Breedlove is the philosopher king #Bitc...   \n",
       "1  Knocked down a pair of silos today Like bitcoi...   \n",
       "2  Great tweet @CryptoBrag Good news, ATH today f...   \n",
       "3  Bulltrends seems easy but they are so complica...   \n",
       "4  Last thought of the night. Over the next few m...   \n",
       "\n",
       "                                          2020-08-28  \n",
       "0   #Bitcoin #Giveaway Enter: Like &amp; RT + Tag...  \n",
       "1  Bitcoin Cash dropped nearly 14% today, but you...  \n",
       "2  Guys you were all complaining for those weeks ...  \n",
       "3   #Bitcoin #Crypto #Giveaway WINNER GETS $25 IN...  \n",
       "4  I love you crazy #Bitcoin bastards! One for th...  \n",
       "\n",
       "[5 rows x 245 columns]"
      ]
     },
     "execution_count": 22,
     "metadata": {},
     "output_type": "execute_result"
    }
   ],
   "source": [
    "tweets_df.head()"
   ]
  },
  {
   "cell_type": "code",
   "execution_count": 23,
   "metadata": {},
   "outputs": [],
   "source": [
    "#sentiment analysis of tweets using vader\n",
    "sentiment_df = pd.DataFrame()"
   ]
  },
  {
   "cell_type": "code",
   "execution_count": 42,
   "metadata": {},
   "outputs": [],
   "source": [
    "from vaderSentiment.vaderSentiment import SentimentIntensityAnalyzer\n",
    "\n",
    "analyser = SentimentIntensityAnalyzer()\n",
    "\n",
    "def sentiment_analyzer_scores(sentence):\n",
    "    score = analyser.polarity_scores(sentence)['compound']\n",
    "    return(score)"
   ]
  },
  {
   "cell_type": "code",
   "execution_count": 53,
   "metadata": {},
   "outputs": [
    {
     "name": "stdout",
     "output_type": "stream",
     "text": [
      "0\n"
     ]
    }
   ],
   "source": [
    "\n",
    "a=[x for x in tweets_df[str(start_date)]]\n",
    "print(0)"
   ]
  },
  {
   "cell_type": "code",
   "execution_count": 54,
   "metadata": {},
   "outputs": [],
   "source": [
    "start_date = date(2016,1,1)\n",
    "end_date = date(2020,8,30)\n",
    "delta = timedelta(days=7)\n",
    "\n",
    "while start_date <= end_date:\n",
    "    a = [x for x in tweets_df[str(start_date)]]\n",
    "    sentiment_df[start_date]=[sentiment_analyzer_scores(k) for k in a]\n",
    "    start_date+=delta"
   ]
  },
  {
   "cell_type": "code",
   "execution_count": 55,
   "metadata": {},
   "outputs": [
    {
     "data": {
      "text/html": [
       "<div>\n",
       "<style scoped>\n",
       "    .dataframe tbody tr th:only-of-type {\n",
       "        vertical-align: middle;\n",
       "    }\n",
       "\n",
       "    .dataframe tbody tr th {\n",
       "        vertical-align: top;\n",
       "    }\n",
       "\n",
       "    .dataframe thead th {\n",
       "        text-align: right;\n",
       "    }\n",
       "</style>\n",
       "<table border=\"1\" class=\"dataframe\">\n",
       "  <thead>\n",
       "    <tr style=\"text-align: right;\">\n",
       "      <th></th>\n",
       "      <th>2016-01-01</th>\n",
       "      <th>2016-01-08</th>\n",
       "      <th>2016-01-15</th>\n",
       "      <th>2016-01-22</th>\n",
       "      <th>2016-01-29</th>\n",
       "      <th>2016-02-05</th>\n",
       "      <th>2016-02-12</th>\n",
       "      <th>2016-02-19</th>\n",
       "      <th>2016-02-26</th>\n",
       "      <th>2016-03-04</th>\n",
       "      <th>...</th>\n",
       "      <th>2020-06-26</th>\n",
       "      <th>2020-07-03</th>\n",
       "      <th>2020-07-10</th>\n",
       "      <th>2020-07-17</th>\n",
       "      <th>2020-07-24</th>\n",
       "      <th>2020-07-31</th>\n",
       "      <th>2020-08-07</th>\n",
       "      <th>2020-08-14</th>\n",
       "      <th>2020-08-21</th>\n",
       "      <th>2020-08-28</th>\n",
       "    </tr>\n",
       "  </thead>\n",
       "  <tbody>\n",
       "    <tr>\n",
       "      <th>0</th>\n",
       "      <td>0.0000</td>\n",
       "      <td>-0.8946</td>\n",
       "      <td>0.3744</td>\n",
       "      <td>0.0000</td>\n",
       "      <td>0.0000</td>\n",
       "      <td>0.0000</td>\n",
       "      <td>0.0000</td>\n",
       "      <td>-0.892</td>\n",
       "      <td>0.0000</td>\n",
       "      <td>0.0000</td>\n",
       "      <td>...</td>\n",
       "      <td>0.4314</td>\n",
       "      <td>-0.6088</td>\n",
       "      <td>0.0000</td>\n",
       "      <td>0.0000</td>\n",
       "      <td>0.9405</td>\n",
       "      <td>0.0000</td>\n",
       "      <td>0.0000</td>\n",
       "      <td>0.0000</td>\n",
       "      <td>0.7096</td>\n",
       "      <td>0.8519</td>\n",
       "    </tr>\n",
       "    <tr>\n",
       "      <th>1</th>\n",
       "      <td>0.0000</td>\n",
       "      <td>0.0000</td>\n",
       "      <td>0.0000</td>\n",
       "      <td>0.4588</td>\n",
       "      <td>0.0000</td>\n",
       "      <td>0.1250</td>\n",
       "      <td>0.0000</td>\n",
       "      <td>0.000</td>\n",
       "      <td>0.1779</td>\n",
       "      <td>0.2869</td>\n",
       "      <td>...</td>\n",
       "      <td>0.1027</td>\n",
       "      <td>0.8176</td>\n",
       "      <td>0.6486</td>\n",
       "      <td>-0.3818</td>\n",
       "      <td>0.3612</td>\n",
       "      <td>0.0000</td>\n",
       "      <td>0.0000</td>\n",
       "      <td>0.3919</td>\n",
       "      <td>0.6908</td>\n",
       "      <td>0.0000</td>\n",
       "    </tr>\n",
       "    <tr>\n",
       "      <th>2</th>\n",
       "      <td>0.0000</td>\n",
       "      <td>-0.6249</td>\n",
       "      <td>0.0000</td>\n",
       "      <td>0.6523</td>\n",
       "      <td>0.0000</td>\n",
       "      <td>-0.0601</td>\n",
       "      <td>0.0000</td>\n",
       "      <td>-0.296</td>\n",
       "      <td>0.0000</td>\n",
       "      <td>0.8402</td>\n",
       "      <td>...</td>\n",
       "      <td>-0.8793</td>\n",
       "      <td>0.0000</td>\n",
       "      <td>-0.8670</td>\n",
       "      <td>0.5187</td>\n",
       "      <td>0.1280</td>\n",
       "      <td>0.5106</td>\n",
       "      <td>-0.8016</td>\n",
       "      <td>0.6696</td>\n",
       "      <td>0.8979</td>\n",
       "      <td>-0.9020</td>\n",
       "    </tr>\n",
       "    <tr>\n",
       "      <th>3</th>\n",
       "      <td>-0.4101</td>\n",
       "      <td>0.0000</td>\n",
       "      <td>0.0000</td>\n",
       "      <td>0.0000</td>\n",
       "      <td>0.3612</td>\n",
       "      <td>-0.5267</td>\n",
       "      <td>0.2120</td>\n",
       "      <td>0.000</td>\n",
       "      <td>0.0000</td>\n",
       "      <td>0.2263</td>\n",
       "      <td>...</td>\n",
       "      <td>0.4404</td>\n",
       "      <td>0.0000</td>\n",
       "      <td>0.3400</td>\n",
       "      <td>0.0772</td>\n",
       "      <td>0.0000</td>\n",
       "      <td>0.2732</td>\n",
       "      <td>-0.7351</td>\n",
       "      <td>0.4939</td>\n",
       "      <td>0.2382</td>\n",
       "      <td>0.9405</td>\n",
       "    </tr>\n",
       "    <tr>\n",
       "      <th>4</th>\n",
       "      <td>0.6696</td>\n",
       "      <td>0.0000</td>\n",
       "      <td>0.5106</td>\n",
       "      <td>0.2732</td>\n",
       "      <td>0.0000</td>\n",
       "      <td>-0.4767</td>\n",
       "      <td>0.4019</td>\n",
       "      <td>0.000</td>\n",
       "      <td>0.3400</td>\n",
       "      <td>0.0516</td>\n",
       "      <td>...</td>\n",
       "      <td>0.0000</td>\n",
       "      <td>-0.6497</td>\n",
       "      <td>0.6696</td>\n",
       "      <td>0.6124</td>\n",
       "      <td>0.3753</td>\n",
       "      <td>0.7627</td>\n",
       "      <td>0.0000</td>\n",
       "      <td>-0.3384</td>\n",
       "      <td>0.0000</td>\n",
       "      <td>-0.3595</td>\n",
       "    </tr>\n",
       "  </tbody>\n",
       "</table>\n",
       "<p>5 rows × 244 columns</p>\n",
       "</div>"
      ],
      "text/plain": [
       "   2016-01-01  2016-01-08  2016-01-15  2016-01-22  2016-01-29  2016-02-05  \\\n",
       "0      0.0000     -0.8946      0.3744      0.0000      0.0000      0.0000   \n",
       "1      0.0000      0.0000      0.0000      0.4588      0.0000      0.1250   \n",
       "2      0.0000     -0.6249      0.0000      0.6523      0.0000     -0.0601   \n",
       "3     -0.4101      0.0000      0.0000      0.0000      0.3612     -0.5267   \n",
       "4      0.6696      0.0000      0.5106      0.2732      0.0000     -0.4767   \n",
       "\n",
       "   2016-02-12  2016-02-19  2016-02-26  2016-03-04  ...  2020-06-26  \\\n",
       "0      0.0000      -0.892      0.0000      0.0000  ...      0.4314   \n",
       "1      0.0000       0.000      0.1779      0.2869  ...      0.1027   \n",
       "2      0.0000      -0.296      0.0000      0.8402  ...     -0.8793   \n",
       "3      0.2120       0.000      0.0000      0.2263  ...      0.4404   \n",
       "4      0.4019       0.000      0.3400      0.0516  ...      0.0000   \n",
       "\n",
       "   2020-07-03  2020-07-10  2020-07-17  2020-07-24  2020-07-31  2020-08-07  \\\n",
       "0     -0.6088      0.0000      0.0000      0.9405      0.0000      0.0000   \n",
       "1      0.8176      0.6486     -0.3818      0.3612      0.0000      0.0000   \n",
       "2      0.0000     -0.8670      0.5187      0.1280      0.5106     -0.8016   \n",
       "3      0.0000      0.3400      0.0772      0.0000      0.2732     -0.7351   \n",
       "4     -0.6497      0.6696      0.6124      0.3753      0.7627      0.0000   \n",
       "\n",
       "   2020-08-14  2020-08-21  2020-08-28  \n",
       "0      0.0000      0.7096      0.8519  \n",
       "1      0.3919      0.6908      0.0000  \n",
       "2      0.6696      0.8979     -0.9020  \n",
       "3      0.4939      0.2382      0.9405  \n",
       "4     -0.3384      0.0000     -0.3595  \n",
       "\n",
       "[5 rows x 244 columns]"
      ]
     },
     "execution_count": 55,
     "metadata": {},
     "output_type": "execute_result"
    }
   ],
   "source": [
    "sentiment_df.head()"
   ]
  },
  {
   "cell_type": "code",
   "execution_count": 57,
   "metadata": {},
   "outputs": [
    {
     "data": {
      "text/plain": [
       "0.073302"
      ]
     },
     "execution_count": 57,
     "metadata": {},
     "output_type": "execute_result"
    }
   ],
   "source": [
    "sentiment_df[date(2016,1,1)].mean()"
   ]
  },
  {
   "cell_type": "code",
   "execution_count": 65,
   "metadata": {},
   "outputs": [],
   "source": [
    "sentiment_means = []\n",
    "start_date = date(2016,1,1)\n",
    "end_date = date(2020,8,30)\n",
    "delta = timedelta(days=7)\n",
    "while start_date <= end_date:\n",
    "    sentiment_means.append(sentiment_df[start_date].mean())\n",
    "    start_date+=delta"
   ]
  },
  {
   "cell_type": "code",
   "execution_count": 68,
   "metadata": {},
   "outputs": [],
   "source": [
    "data['twitterSentiment']=sentiment_means\n",
    "data['twitterSentimentReturns']=data['twitterSentiment'].pct_change()"
   ]
  },
  {
   "cell_type": "code",
   "execution_count": 71,
   "metadata": {},
   "outputs": [
    {
     "data": {
      "text/plain": [
       "<matplotlib.axes._subplots.AxesSubplot at 0x7fa6b57a5d30>"
      ]
     },
     "execution_count": 71,
     "metadata": {},
     "output_type": "execute_result"
    },
    {
     "data": {
      "image/png": "[encoded data removed]",
      "text/plain": [
       "<Figure size 432x288 with 1 Axes>"
      ]
     },
     "metadata": {
      "needs_background": "light"
     },
     "output_type": "display_data"
    }
   ],
   "source": [
    "data['twitterSentiment'].plot()"
   ]
  },
  {
   "cell_type": "code",
   "execution_count": 73,
   "metadata": {},
   "outputs": [
    {
     "data": {
      "text/plain": [
       "-88.3329729729725"
      ]
     },
     "execution_count": 73,
     "metadata": {},
     "output_type": "execute_result"
    }
   ],
   "source": [
    "data['twitterSentimentReturns'].min()"
   ]
  },
  {
   "cell_type": "code",
   "execution_count": 74,
   "metadata": {},
   "outputs": [
    {
     "data": {
      "text/plain": [
       "Text(0.5, 1.0, '%Change weekly in T. sentiment')"
      ]
     },
     "execution_count": 74,
     "metadata": {},
     "output_type": "execute_result"
    },
    {
     "data": {
      "image/png": "[encoded data removed]",
      "text/plain": [
       "<Figure size 432x288 with 1 Axes>"
      ]
     },
     "metadata": {
      "needs_background": "light"
     },
     "output_type": "display_data"
    }
   ],
   "source": [
    "fig = plt.figure()\n",
    "ax1 = fig.add_axes([0.1,0.1,0.8,0.8])\n",
    "data['twitterSentimentReturns'].plot.hist(bins = 100)\n",
    "ax1.set_xlabel(\"Daily returns %\")\n",
    "ax1.set_ylabel(\"Percent\")\n",
    "ax1.set_title(\"%Change weekly in T. sentiment\")"
   ]
  },
  {
   "cell_type": "code",
   "execution_count": 75,
   "metadata": {},
   "outputs": [
    {
     "data": {
      "text/html": [
       "<div>\n",
       "<style scoped>\n",
       "    .dataframe tbody tr th:only-of-type {\n",
       "        vertical-align: middle;\n",
       "    }\n",
       "\n",
       "    .dataframe tbody tr th {\n",
       "        vertical-align: top;\n",
       "    }\n",
       "\n",
       "    .dataframe thead th {\n",
       "        text-align: right;\n",
       "    }\n",
       "</style>\n",
       "<table border=\"1\" class=\"dataframe\">\n",
       "  <thead>\n",
       "    <tr style=\"text-align: right;\">\n",
       "      <th></th>\n",
       "      <th>Date</th>\n",
       "      <th>googleSearches</th>\n",
       "      <th>BTCPrice</th>\n",
       "      <th>BTCReturns</th>\n",
       "      <th>googleReturns</th>\n",
       "      <th>BTCReturnsLog</th>\n",
       "      <th>googleReturnsLog</th>\n",
       "      <th>twitterSentiment</th>\n",
       "      <th>twitterSentimentReturns</th>\n",
       "    </tr>\n",
       "  </thead>\n",
       "  <tbody>\n",
       "    <tr>\n",
       "      <th>0</th>\n",
       "      <td>2016-01-03</td>\n",
       "      <td>0.03</td>\n",
       "      <td>0.025590</td>\n",
       "      <td>NaN</td>\n",
       "      <td>NaN</td>\n",
       "      <td>NaN</td>\n",
       "      <td>NaN</td>\n",
       "      <td>0.073302</td>\n",
       "      <td>NaN</td>\n",
       "    </tr>\n",
       "    <tr>\n",
       "      <th>1</th>\n",
       "      <td>2016-01-10</td>\n",
       "      <td>0.03</td>\n",
       "      <td>0.024040</td>\n",
       "      <td>-0.060566</td>\n",
       "      <td>0.0</td>\n",
       "      <td>NaN</td>\n",
       "      <td>-inf</td>\n",
       "      <td>-0.042822</td>\n",
       "      <td>-1.584186</td>\n",
       "    </tr>\n",
       "    <tr>\n",
       "      <th>2</th>\n",
       "      <td>2016-01-17</td>\n",
       "      <td>0.03</td>\n",
       "      <td>0.022920</td>\n",
       "      <td>-0.046581</td>\n",
       "      <td>0.0</td>\n",
       "      <td>NaN</td>\n",
       "      <td>-inf</td>\n",
       "      <td>0.164422</td>\n",
       "      <td>-4.839662</td>\n",
       "    </tr>\n",
       "    <tr>\n",
       "      <th>3</th>\n",
       "      <td>2016-01-24</td>\n",
       "      <td>0.03</td>\n",
       "      <td>0.021246</td>\n",
       "      <td>-0.073058</td>\n",
       "      <td>0.0</td>\n",
       "      <td>NaN</td>\n",
       "      <td>-inf</td>\n",
       "      <td>0.141164</td>\n",
       "      <td>-0.141453</td>\n",
       "    </tr>\n",
       "    <tr>\n",
       "      <th>4</th>\n",
       "      <td>2016-01-31</td>\n",
       "      <td>0.03</td>\n",
       "      <td>0.021765</td>\n",
       "      <td>0.024468</td>\n",
       "      <td>0.0</td>\n",
       "      <td>-3.71038</td>\n",
       "      <td>-inf</td>\n",
       "      <td>0.115374</td>\n",
       "      <td>-0.182695</td>\n",
       "    </tr>\n",
       "  </tbody>\n",
       "</table>\n",
       "</div>"
      ],
      "text/plain": [
       "         Date  googleSearches  BTCPrice  BTCReturns  googleReturns  \\\n",
       "0  2016-01-03            0.03  0.025590         NaN            NaN   \n",
       "1  2016-01-10            0.03  0.024040   -0.060566            0.0   \n",
       "2  2016-01-17            0.03  0.022920   -0.046581            0.0   \n",
       "3  2016-01-24            0.03  0.021246   -0.073058            0.0   \n",
       "4  2016-01-31            0.03  0.021765    0.024468            0.0   \n",
       "\n",
       "   BTCReturnsLog  googleReturnsLog  twitterSentiment  twitterSentimentReturns  \n",
       "0            NaN               NaN          0.073302                      NaN  \n",
       "1            NaN              -inf         -0.042822                -1.584186  \n",
       "2            NaN              -inf          0.164422                -4.839662  \n",
       "3            NaN              -inf          0.141164                -0.141453  \n",
       "4       -3.71038              -inf          0.115374                -0.182695  "
      ]
     },
     "execution_count": 75,
     "metadata": {},
     "output_type": "execute_result"
    }
   ],
   "source": [
    "data.head()"
   ]
  },
  {
   "cell_type": "code",
   "execution_count": 82,
   "metadata": {},
   "outputs": [],
   "source": [
    "data=data.set_index('Date')"
   ]
  },
  {
   "cell_type": "code",
   "execution_count": 80,
   "metadata": {},
   "outputs": [],
   "source": [
    "data=data.drop(['BTCReturnsLog','googleReturnsLog'],axis=1)"
   ]
  },
  {
   "cell_type": "code",
   "execution_count": 83,
   "metadata": {},
   "outputs": [
    {
     "data": {
      "text/html": [
       "<div>\n",
       "<style scoped>\n",
       "    .dataframe tbody tr th:only-of-type {\n",
       "        vertical-align: middle;\n",
       "    }\n",
       "\n",
       "    .dataframe tbody tr th {\n",
       "        vertical-align: top;\n",
       "    }\n",
       "\n",
       "    .dataframe thead th {\n",
       "        text-align: right;\n",
       "    }\n",
       "</style>\n",
       "<table border=\"1\" class=\"dataframe\">\n",
       "  <thead>\n",
       "    <tr style=\"text-align: right;\">\n",
       "      <th></th>\n",
       "      <th>googleSearches</th>\n",
       "      <th>BTCPrice</th>\n",
       "      <th>BTCReturns</th>\n",
       "      <th>googleReturns</th>\n",
       "      <th>twitterSentiment</th>\n",
       "      <th>twitterSentimentReturns</th>\n",
       "    </tr>\n",
       "    <tr>\n",
       "      <th>Date</th>\n",
       "      <th></th>\n",
       "      <th></th>\n",
       "      <th></th>\n",
       "      <th></th>\n",
       "      <th></th>\n",
       "      <th></th>\n",
       "    </tr>\n",
       "  </thead>\n",
       "  <tbody>\n",
       "    <tr>\n",
       "      <th>2016-01-03</th>\n",
       "      <td>0.03</td>\n",
       "      <td>0.025590</td>\n",
       "      <td>NaN</td>\n",
       "      <td>NaN</td>\n",
       "      <td>0.073302</td>\n",
       "      <td>NaN</td>\n",
       "    </tr>\n",
       "    <tr>\n",
       "      <th>2016-01-10</th>\n",
       "      <td>0.03</td>\n",
       "      <td>0.024040</td>\n",
       "      <td>-0.060566</td>\n",
       "      <td>0.0</td>\n",
       "      <td>-0.042822</td>\n",
       "      <td>-1.584186</td>\n",
       "    </tr>\n",
       "    <tr>\n",
       "      <th>2016-01-17</th>\n",
       "      <td>0.03</td>\n",
       "      <td>0.022920</td>\n",
       "      <td>-0.046581</td>\n",
       "      <td>0.0</td>\n",
       "      <td>0.164422</td>\n",
       "      <td>-4.839662</td>\n",
       "    </tr>\n",
       "    <tr>\n",
       "      <th>2016-01-24</th>\n",
       "      <td>0.03</td>\n",
       "      <td>0.021246</td>\n",
       "      <td>-0.073058</td>\n",
       "      <td>0.0</td>\n",
       "      <td>0.141164</td>\n",
       "      <td>-0.141453</td>\n",
       "    </tr>\n",
       "    <tr>\n",
       "      <th>2016-01-31</th>\n",
       "      <td>0.03</td>\n",
       "      <td>0.021765</td>\n",
       "      <td>0.024468</td>\n",
       "      <td>0.0</td>\n",
       "      <td>0.115374</td>\n",
       "      <td>-0.182695</td>\n",
       "    </tr>\n",
       "  </tbody>\n",
       "</table>\n",
       "</div>"
      ],
      "text/plain": [
       "            googleSearches  BTCPrice  BTCReturns  googleReturns  \\\n",
       "Date                                                              \n",
       "2016-01-03            0.03  0.025590         NaN            NaN   \n",
       "2016-01-10            0.03  0.024040   -0.060566            0.0   \n",
       "2016-01-17            0.03  0.022920   -0.046581            0.0   \n",
       "2016-01-24            0.03  0.021246   -0.073058            0.0   \n",
       "2016-01-31            0.03  0.021765    0.024468            0.0   \n",
       "\n",
       "            twitterSentiment  twitterSentimentReturns  \n",
       "Date                                                   \n",
       "2016-01-03          0.073302                      NaN  \n",
       "2016-01-10         -0.042822                -1.584186  \n",
       "2016-01-17          0.164422                -4.839662  \n",
       "2016-01-24          0.141164                -0.141453  \n",
       "2016-01-31          0.115374                -0.182695  "
      ]
     },
     "execution_count": 83,
     "metadata": {},
     "output_type": "execute_result"
    }
   ],
   "source": [
    "data.head()"
   ]
  },
  {
   "cell_type": "code",
   "execution_count": 84,
   "metadata": {},
   "outputs": [],
   "source": [
    "data.to_csv('final_data.csv')"
   ]
  },
  {
   "cell_type": "code",
   "execution_count": 165,
   "metadata": {},
   "outputs": [],
   "source": [
    "from sklearn.model_selection import train_test_split\n",
    "\n",
    "train, test = train_test_split(data, test_size=0.2)"
   ]
  },
  {
   "cell_type": "code",
   "execution_count": 126,
   "metadata": {},
   "outputs": [
    {
     "data": {
      "text/html": [
       "<div>\n",
       "<style scoped>\n",
       "    .dataframe tbody tr th:only-of-type {\n",
       "        vertical-align: middle;\n",
       "    }\n",
       "\n",
       "    .dataframe tbody tr th {\n",
       "        vertical-align: top;\n",
       "    }\n",
       "\n",
       "    .dataframe thead th {\n",
       "        text-align: right;\n",
       "    }\n",
       "</style>\n",
       "<table border=\"1\" class=\"dataframe\">\n",
       "  <thead>\n",
       "    <tr style=\"text-align: right;\">\n",
       "      <th></th>\n",
       "      <th>googleSearches</th>\n",
       "      <th>BTCPrice</th>\n",
       "      <th>BTCReturns</th>\n",
       "      <th>googleReturns</th>\n",
       "      <th>twitterSentiment</th>\n",
       "      <th>twitterSentimentReturns</th>\n",
       "    </tr>\n",
       "    <tr>\n",
       "      <th>Date</th>\n",
       "      <th></th>\n",
       "      <th></th>\n",
       "      <th></th>\n",
       "      <th></th>\n",
       "      <th></th>\n",
       "      <th></th>\n",
       "    </tr>\n",
       "  </thead>\n",
       "  <tbody>\n",
       "    <tr>\n",
       "      <th>2019-05-26</th>\n",
       "      <td>0.15</td>\n",
       "      <td>0.464783</td>\n",
       "      <td>0.055523</td>\n",
       "      <td>0.071429</td>\n",
       "      <td>0.253486</td>\n",
       "      <td>0.378945</td>\n",
       "    </tr>\n",
       "    <tr>\n",
       "      <th>2020-05-17</th>\n",
       "      <td>0.15</td>\n",
       "      <td>0.507369</td>\n",
       "      <td>-0.066980</td>\n",
       "      <td>-0.285714</td>\n",
       "      <td>0.266562</td>\n",
       "      <td>0.191893</td>\n",
       "    </tr>\n",
       "    <tr>\n",
       "      <th>2016-12-25</th>\n",
       "      <td>0.05</td>\n",
       "      <td>0.054386</td>\n",
       "      <td>0.126029</td>\n",
       "      <td>0.250000</td>\n",
       "      <td>0.170720</td>\n",
       "      <td>0.080219</td>\n",
       "    </tr>\n",
       "    <tr>\n",
       "      <th>2016-06-19</th>\n",
       "      <td>0.05</td>\n",
       "      <td>0.034860</td>\n",
       "      <td>-0.185736</td>\n",
       "      <td>0.000000</td>\n",
       "      <td>0.096714</td>\n",
       "      <td>-0.421678</td>\n",
       "    </tr>\n",
       "    <tr>\n",
       "      <th>2020-03-15</th>\n",
       "      <td>0.20</td>\n",
       "      <td>0.345882</td>\n",
       "      <td>0.245515</td>\n",
       "      <td>0.000000</td>\n",
       "      <td>0.225206</td>\n",
       "      <td>-4.948904</td>\n",
       "    </tr>\n",
       "  </tbody>\n",
       "</table>\n",
       "</div>"
      ],
      "text/plain": [
       "            googleSearches  BTCPrice  BTCReturns  googleReturns  \\\n",
       "Date                                                              \n",
       "2019-05-26            0.15  0.464783    0.055523       0.071429   \n",
       "2020-05-17            0.15  0.507369   -0.066980      -0.285714   \n",
       "2016-12-25            0.05  0.054386    0.126029       0.250000   \n",
       "2016-06-19            0.05  0.034860   -0.185736       0.000000   \n",
       "2020-03-15            0.20  0.345882    0.245515       0.000000   \n",
       "\n",
       "            twitterSentiment  twitterSentimentReturns  \n",
       "Date                                                   \n",
       "2019-05-26          0.253486                 0.378945  \n",
       "2020-05-17          0.266562                 0.191893  \n",
       "2016-12-25          0.170720                 0.080219  \n",
       "2016-06-19          0.096714                -0.421678  \n",
       "2020-03-15          0.225206                -4.948904  "
      ]
     },
     "execution_count": 126,
     "metadata": {},
     "output_type": "execute_result"
    }
   ],
   "source": [
    "train.tail()"
   ]
  },
  {
   "cell_type": "code",
   "execution_count": 124,
   "metadata": {},
   "outputs": [
    {
     "data": {
      "text/html": [
       "<div>\n",
       "<style scoped>\n",
       "    .dataframe tbody tr th:only-of-type {\n",
       "        vertical-align: middle;\n",
       "    }\n",
       "\n",
       "    .dataframe tbody tr th {\n",
       "        vertical-align: top;\n",
       "    }\n",
       "\n",
       "    .dataframe thead th {\n",
       "        text-align: right;\n",
       "    }\n",
       "</style>\n",
       "<table border=\"1\" class=\"dataframe\">\n",
       "  <thead>\n",
       "    <tr style=\"text-align: right;\">\n",
       "      <th></th>\n",
       "      <th>googleSearches</th>\n",
       "      <th>googleReturns</th>\n",
       "      <th>twitterSentiment</th>\n",
       "      <th>twitterSentimentReturns</th>\n",
       "    </tr>\n",
       "    <tr>\n",
       "      <th>Date</th>\n",
       "      <th></th>\n",
       "      <th></th>\n",
       "      <th></th>\n",
       "      <th></th>\n",
       "    </tr>\n",
       "  </thead>\n",
       "  <tbody>\n",
       "    <tr>\n",
       "      <th>2019-07-14</th>\n",
       "      <td>0.17</td>\n",
       "      <td>0.000000</td>\n",
       "      <td>0.232822</td>\n",
       "      <td>0.466004</td>\n",
       "    </tr>\n",
       "    <tr>\n",
       "      <th>2018-11-18</th>\n",
       "      <td>0.14</td>\n",
       "      <td>0.400000</td>\n",
       "      <td>0.196616</td>\n",
       "      <td>1.331950</td>\n",
       "    </tr>\n",
       "    <tr>\n",
       "      <th>2016-10-30</th>\n",
       "      <td>0.04</td>\n",
       "      <td>0.333333</td>\n",
       "      <td>0.126880</td>\n",
       "      <td>0.173576</td>\n",
       "    </tr>\n",
       "    <tr>\n",
       "      <th>2020-04-05</th>\n",
       "      <td>0.13</td>\n",
       "      <td>0.000000</td>\n",
       "      <td>0.216758</td>\n",
       "      <td>-0.204090</td>\n",
       "    </tr>\n",
       "    <tr>\n",
       "      <th>2019-07-07</th>\n",
       "      <td>0.17</td>\n",
       "      <td>-0.055556</td>\n",
       "      <td>0.158814</td>\n",
       "      <td>1.504400</td>\n",
       "    </tr>\n",
       "  </tbody>\n",
       "</table>\n",
       "</div>"
      ],
      "text/plain": [
       "            googleSearches  googleReturns  twitterSentiment  \\\n",
       "Date                                                          \n",
       "2019-07-14            0.17       0.000000          0.232822   \n",
       "2018-11-18            0.14       0.400000          0.196616   \n",
       "2016-10-30            0.04       0.333333          0.126880   \n",
       "2020-04-05            0.13       0.000000          0.216758   \n",
       "2019-07-07            0.17      -0.055556          0.158814   \n",
       "\n",
       "            twitterSentimentReturns  \n",
       "Date                                 \n",
       "2019-07-14                 0.466004  \n",
       "2018-11-18                 1.331950  \n",
       "2016-10-30                 0.173576  \n",
       "2020-04-05                -0.204090  \n",
       "2019-07-07                 1.504400  "
      ]
     },
     "execution_count": 124,
     "metadata": {},
     "output_type": "execute_result"
    }
   ],
   "source": [
    "train.tail()"
   ]
  },
  {
   "cell_type": "code",
   "execution_count": 166,
   "metadata": {},
   "outputs": [],
   "source": [
    "prices = train['BTCPrice']\n",
    "train = train.drop(['BTCPrice','BTCReturns'],axis=1)"
   ]
  },
  {
   "cell_type": "code",
   "execution_count": 131,
   "metadata": {},
   "outputs": [
    {
     "data": {
      "text/html": [
       "<div>\n",
       "<style scoped>\n",
       "    .dataframe tbody tr th:only-of-type {\n",
       "        vertical-align: middle;\n",
       "    }\n",
       "\n",
       "    .dataframe tbody tr th {\n",
       "        vertical-align: top;\n",
       "    }\n",
       "\n",
       "    .dataframe thead th {\n",
       "        text-align: right;\n",
       "    }\n",
       "</style>\n",
       "<table border=\"1\" class=\"dataframe\">\n",
       "  <thead>\n",
       "    <tr style=\"text-align: right;\">\n",
       "      <th></th>\n",
       "      <th>googleSearches</th>\n",
       "      <th>googleReturns</th>\n",
       "      <th>twitterSentiment</th>\n",
       "      <th>twitterSentimentReturns</th>\n",
       "    </tr>\n",
       "    <tr>\n",
       "      <th>Date</th>\n",
       "      <th></th>\n",
       "      <th></th>\n",
       "      <th></th>\n",
       "      <th></th>\n",
       "    </tr>\n",
       "  </thead>\n",
       "  <tbody>\n",
       "    <tr>\n",
       "      <th>2016-04-24</th>\n",
       "      <td>0.03</td>\n",
       "      <td>0.000000</td>\n",
       "      <td>0.084620</td>\n",
       "      <td>-0.466900</td>\n",
       "    </tr>\n",
       "    <tr>\n",
       "      <th>2016-01-31</th>\n",
       "      <td>0.03</td>\n",
       "      <td>0.000000</td>\n",
       "      <td>0.115374</td>\n",
       "      <td>-0.182695</td>\n",
       "    </tr>\n",
       "    <tr>\n",
       "      <th>2019-02-10</th>\n",
       "      <td>0.07</td>\n",
       "      <td>-0.125000</td>\n",
       "      <td>0.170734</td>\n",
       "      <td>12.315707</td>\n",
       "    </tr>\n",
       "    <tr>\n",
       "      <th>2016-01-10</th>\n",
       "      <td>0.03</td>\n",
       "      <td>0.000000</td>\n",
       "      <td>-0.042822</td>\n",
       "      <td>-1.584186</td>\n",
       "    </tr>\n",
       "    <tr>\n",
       "      <th>2016-02-28</th>\n",
       "      <td>0.03</td>\n",
       "      <td>0.000000</td>\n",
       "      <td>0.107518</td>\n",
       "      <td>0.741239</td>\n",
       "    </tr>\n",
       "    <tr>\n",
       "      <th>...</th>\n",
       "      <td>...</td>\n",
       "      <td>...</td>\n",
       "      <td>...</td>\n",
       "      <td>...</td>\n",
       "    </tr>\n",
       "    <tr>\n",
       "      <th>2019-05-26</th>\n",
       "      <td>0.15</td>\n",
       "      <td>0.071429</td>\n",
       "      <td>0.253486</td>\n",
       "      <td>0.378945</td>\n",
       "    </tr>\n",
       "    <tr>\n",
       "      <th>2020-05-17</th>\n",
       "      <td>0.15</td>\n",
       "      <td>-0.285714</td>\n",
       "      <td>0.266562</td>\n",
       "      <td>0.191893</td>\n",
       "    </tr>\n",
       "    <tr>\n",
       "      <th>2016-12-25</th>\n",
       "      <td>0.05</td>\n",
       "      <td>0.250000</td>\n",
       "      <td>0.170720</td>\n",
       "      <td>0.080219</td>\n",
       "    </tr>\n",
       "    <tr>\n",
       "      <th>2016-06-19</th>\n",
       "      <td>0.05</td>\n",
       "      <td>0.000000</td>\n",
       "      <td>0.096714</td>\n",
       "      <td>-0.421678</td>\n",
       "    </tr>\n",
       "    <tr>\n",
       "      <th>2020-03-15</th>\n",
       "      <td>0.20</td>\n",
       "      <td>0.000000</td>\n",
       "      <td>0.225206</td>\n",
       "      <td>-4.948904</td>\n",
       "    </tr>\n",
       "  </tbody>\n",
       "</table>\n",
       "<p>195 rows × 4 columns</p>\n",
       "</div>"
      ],
      "text/plain": [
       "            googleSearches  googleReturns  twitterSentiment  \\\n",
       "Date                                                          \n",
       "2016-04-24            0.03       0.000000          0.084620   \n",
       "2016-01-31            0.03       0.000000          0.115374   \n",
       "2019-02-10            0.07      -0.125000          0.170734   \n",
       "2016-01-10            0.03       0.000000         -0.042822   \n",
       "2016-02-28            0.03       0.000000          0.107518   \n",
       "...                    ...            ...               ...   \n",
       "2019-05-26            0.15       0.071429          0.253486   \n",
       "2020-05-17            0.15      -0.285714          0.266562   \n",
       "2016-12-25            0.05       0.250000          0.170720   \n",
       "2016-06-19            0.05       0.000000          0.096714   \n",
       "2020-03-15            0.20       0.000000          0.225206   \n",
       "\n",
       "            twitterSentimentReturns  \n",
       "Date                                 \n",
       "2016-04-24                -0.466900  \n",
       "2016-01-31                -0.182695  \n",
       "2019-02-10                12.315707  \n",
       "2016-01-10                -1.584186  \n",
       "2016-02-28                 0.741239  \n",
       "...                             ...  \n",
       "2019-05-26                 0.378945  \n",
       "2020-05-17                 0.191893  \n",
       "2016-12-25                 0.080219  \n",
       "2016-06-19                -0.421678  \n",
       "2020-03-15                -4.948904  \n",
       "\n",
       "[195 rows x 4 columns]"
      ]
     },
     "execution_count": 131,
     "metadata": {},
     "output_type": "execute_result"
    }
   ],
   "source": []
  },
  {
   "cell_type": "code",
   "execution_count": 139,
   "metadata": {},
   "outputs": [
    {
     "name": "stdout",
     "output_type": "stream",
     "text": [
      "<class 'pandas.core.frame.DataFrame'>\n",
      "Index: 195 entries, 2016-04-24 to 2020-03-15\n",
      "Data columns (total 4 columns):\n",
      " #   Column                   Non-Null Count  Dtype  \n",
      "---  ------                   --------------  -----  \n",
      " 0   googleSearches           195 non-null    float64\n",
      " 1   googleReturns            194 non-null    float64\n",
      " 2   twitterSentiment         195 non-null    float64\n",
      " 3   twitterSentimentReturns  194 non-null    float64\n",
      "dtypes: float64(4)\n",
      "memory usage: 12.6+ KB\n"
     ]
    }
   ],
   "source": [
    "train.info()"
   ]
  },
  {
   "cell_type": "code",
   "execution_count": 167,
   "metadata": {},
   "outputs": [],
   "source": [
    "train=train.drop('twitterSentimentReturns',axis=1)"
   ]
  },
  {
   "cell_type": "code",
   "execution_count": 168,
   "metadata": {},
   "outputs": [],
   "source": [
    "train=train.drop('googleReturns',axis=1)"
   ]
  },
  {
   "cell_type": "code",
   "execution_count": 161,
   "metadata": {},
   "outputs": [
    {
     "data": {
      "text/plain": [
       "googleSearches      0\n",
       "twitterSentiment    0\n",
       "dtype: int64"
      ]
     },
     "execution_count": 161,
     "metadata": {},
     "output_type": "execute_result"
    }
   ],
   "source": [
    "train.isnull().sum()"
   ]
  },
  {
   "cell_type": "code",
   "execution_count": 162,
   "metadata": {},
   "outputs": [],
   "source": [
    "from sklearn.ensemble import RandomForestClassifier\n",
    "clf = RandomForestClassifier(random_state=0)"
   ]
  },
  {
   "cell_type": "code",
   "execution_count": 169,
   "metadata": {},
   "outputs": [
    {
     "ename": "ValueError",
     "evalue": "Unknown label type: 'continuous'",
     "output_type": "error",
     "traceback": [
      "\u001b[0;31m---------------------------------------------------------------------------\u001b[0m",
      "\u001b[0;31mValueError\u001b[0m                                Traceback (most recent call last)",
      "\u001b[0;32m<ipython-input-169-2fb2447c6aa9>\u001b[0m in \u001b[0;36m<module>\u001b[0;34m\u001b[0m\n\u001b[0;32m----> 1\u001b[0;31m \u001b[0mclf\u001b[0m\u001b[0;34m.\u001b[0m\u001b[0mfit\u001b[0m\u001b[0;34m(\u001b[0m\u001b[0mtrain\u001b[0m\u001b[0;34m,\u001b[0m\u001b[0mprices\u001b[0m\u001b[0;34m)\u001b[0m\u001b[0;34m\u001b[0m\u001b[0;34m\u001b[0m\u001b[0m\n\u001b[0m",
      "\u001b[0;32m~/miniconda3/lib/python3.7/site-packages/sklearn/ensemble/_forest.py\u001b[0m in \u001b[0;36mfit\u001b[0;34m(self, X, y, sample_weight)\u001b[0m\n\u001b[1;32m    328\u001b[0m         \u001b[0mself\u001b[0m\u001b[0;34m.\u001b[0m\u001b[0mn_outputs_\u001b[0m \u001b[0;34m=\u001b[0m \u001b[0my\u001b[0m\u001b[0;34m.\u001b[0m\u001b[0mshape\u001b[0m\u001b[0;34m[\u001b[0m\u001b[0;36m1\u001b[0m\u001b[0;34m]\u001b[0m\u001b[0;34m\u001b[0m\u001b[0;34m\u001b[0m\u001b[0m\n\u001b[1;32m    329\u001b[0m \u001b[0;34m\u001b[0m\u001b[0m\n\u001b[0;32m--> 330\u001b[0;31m         \u001b[0my\u001b[0m\u001b[0;34m,\u001b[0m \u001b[0mexpanded_class_weight\u001b[0m \u001b[0;34m=\u001b[0m \u001b[0mself\u001b[0m\u001b[0;34m.\u001b[0m\u001b[0m_validate_y_class_weight\u001b[0m\u001b[0;34m(\u001b[0m\u001b[0my\u001b[0m\u001b[0;34m)\u001b[0m\u001b[0;34m\u001b[0m\u001b[0;34m\u001b[0m\u001b[0m\n\u001b[0m\u001b[1;32m    331\u001b[0m \u001b[0;34m\u001b[0m\u001b[0m\n\u001b[1;32m    332\u001b[0m         \u001b[0;32mif\u001b[0m \u001b[0mgetattr\u001b[0m\u001b[0;34m(\u001b[0m\u001b[0my\u001b[0m\u001b[0;34m,\u001b[0m \u001b[0;34m\"dtype\"\u001b[0m\u001b[0;34m,\u001b[0m \u001b[0;32mNone\u001b[0m\u001b[0;34m)\u001b[0m \u001b[0;34m!=\u001b[0m \u001b[0mDOUBLE\u001b[0m \u001b[0;32mor\u001b[0m \u001b[0;32mnot\u001b[0m \u001b[0my\u001b[0m\u001b[0;34m.\u001b[0m\u001b[0mflags\u001b[0m\u001b[0;34m.\u001b[0m\u001b[0mcontiguous\u001b[0m\u001b[0;34m:\u001b[0m\u001b[0;34m\u001b[0m\u001b[0;34m\u001b[0m\u001b[0m\n",
      "\u001b[0;32m~/miniconda3/lib/python3.7/site-packages/sklearn/ensemble/_forest.py\u001b[0m in \u001b[0;36m_validate_y_class_weight\u001b[0;34m(self, y)\u001b[0m\n\u001b[1;32m    556\u001b[0m \u001b[0;34m\u001b[0m\u001b[0m\n\u001b[1;32m    557\u001b[0m     \u001b[0;32mdef\u001b[0m \u001b[0m_validate_y_class_weight\u001b[0m\u001b[0;34m(\u001b[0m\u001b[0mself\u001b[0m\u001b[0;34m,\u001b[0m \u001b[0my\u001b[0m\u001b[0;34m)\u001b[0m\u001b[0;34m:\u001b[0m\u001b[0;34m\u001b[0m\u001b[0;34m\u001b[0m\u001b[0m\n\u001b[0;32m--> 558\u001b[0;31m         \u001b[0mcheck_classification_targets\u001b[0m\u001b[0;34m(\u001b[0m\u001b[0my\u001b[0m\u001b[0;34m)\u001b[0m\u001b[0;34m\u001b[0m\u001b[0;34m\u001b[0m\u001b[0m\n\u001b[0m\u001b[1;32m    559\u001b[0m \u001b[0;34m\u001b[0m\u001b[0m\n\u001b[1;32m    560\u001b[0m         \u001b[0my\u001b[0m \u001b[0;34m=\u001b[0m \u001b[0mnp\u001b[0m\u001b[0;34m.\u001b[0m\u001b[0mcopy\u001b[0m\u001b[0;34m(\u001b[0m\u001b[0my\u001b[0m\u001b[0;34m)\u001b[0m\u001b[0;34m\u001b[0m\u001b[0;34m\u001b[0m\u001b[0m\n",
      "\u001b[0;32m~/miniconda3/lib/python3.7/site-packages/sklearn/utils/multiclass.py\u001b[0m in \u001b[0;36mcheck_classification_targets\u001b[0;34m(y)\u001b[0m\n\u001b[1;32m    170\u001b[0m     if y_type not in ['binary', 'multiclass', 'multiclass-multioutput',\n\u001b[1;32m    171\u001b[0m                       'multilabel-indicator', 'multilabel-sequences']:\n\u001b[0;32m--> 172\u001b[0;31m         \u001b[0;32mraise\u001b[0m \u001b[0mValueError\u001b[0m\u001b[0;34m(\u001b[0m\u001b[0;34m\"Unknown label type: %r\"\u001b[0m \u001b[0;34m%\u001b[0m \u001b[0my_type\u001b[0m\u001b[0;34m)\u001b[0m\u001b[0;34m\u001b[0m\u001b[0;34m\u001b[0m\u001b[0m\n\u001b[0m\u001b[1;32m    173\u001b[0m \u001b[0;34m\u001b[0m\u001b[0m\n\u001b[1;32m    174\u001b[0m \u001b[0;34m\u001b[0m\u001b[0m\n",
      "\u001b[0;31mValueError\u001b[0m: Unknown label type: 'continuous'"
     ]
    }
   ],
   "source": [
    "clf.fit(train,prices)"
   ]
  },
  {
   "cell_type": "code",
   "execution_count": null,
   "metadata": {},
   "outputs": [],
   "source": []
  }
 ],
 "metadata": {
  "kernelspec": {
   "display_name": "Python 3",
   "language": "python",
   "name": "python3"
  },
  "language_info": {
   "codemirror_mode": {
    "name": "ipython",
    "version": 3
   },
   "file_extension": ".py",
   "mimetype": "text/x-python",
   "name": "python",
   "nbconvert_exporter": "python",
   "pygments_lexer": "ipython3",
   "version": "3.7.1"
  }
 },
 "nbformat": 4,
 "nbformat_minor": 4
}
